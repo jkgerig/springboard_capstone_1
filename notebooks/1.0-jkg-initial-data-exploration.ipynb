{
 "cells": [
  {
   "cell_type": "markdown",
   "metadata": {},
   "source": [
    "# Data Cleaning Strategy\n",
    "\n",
    "**Raw Data** *(csv)*\n",
    "- Fix column names\n",
    "- Description for each column\n",
    "- Convert data types as needed\n",
    "- Recode missing values\n",
    "- Split/combine columns as needed (ex: Date and Time could be in separate fields)\n",
    "\n",
    "**Clean Data** *(pandas df)*\n",
    "- Null count per column\n",
    "- \"use\" for each column (what its purpose is in the analysis)\n",
    "- look at unique values (ex: Neighborhoods)\n",
    "\n",
    "**Preliminary Analysis**\n",
    "- Datetime field investigation\n",
    "    - overall histogram\n",
    "    - histogram of appointments per day of week\n",
    "- Counts for any fields used for categorization/grouping"
   ]
  },
  {
   "cell_type": "markdown",
   "metadata": {},
   "source": [
    "## Raw Data Processing/Cleaning"
   ]
  },
  {
   "cell_type": "code",
   "execution_count": 1,
   "metadata": {
    "collapsed": true
   },
   "outputs": [],
   "source": [
    "# imports\n",
    "import pandas as pd\n",
    "import matplotlib.pyplot as plt"
   ]
  },
  {
   "cell_type": "code",
   "execution_count": 2,
   "metadata": {
    "collapsed": true
   },
   "outputs": [],
   "source": [
    "# raw data filename\n",
    "data_file = '../data/raw/KaggleV2-May-2016.csv'"
   ]
  },
  {
   "cell_type": "code",
   "execution_count": 3,
   "metadata": {
    "collapsed": true
   },
   "outputs": [],
   "source": [
    "df_raw = pd.read_csv(data_file)"
   ]
  },
  {
   "cell_type": "code",
   "execution_count": 13,
   "metadata": {},
   "outputs": [
    {
     "name": "stdout",
     "output_type": "stream",
     "text": [
      "<class 'pandas.core.frame.DataFrame'>\n",
      "RangeIndex: 110527 entries, 0 to 110526\n",
      "Data columns (total 14 columns):\n",
      "Patient_ID          110527 non-null float64\n",
      "Appointment_ID      110527 non-null int64\n",
      "Gender              110527 non-null object\n",
      "Scheduled_Date      110527 non-null object\n",
      "Appointment_Date    110527 non-null object\n",
      "Age                 110527 non-null int64\n",
      "Neighborhood        110527 non-null object\n",
      "Welfare             110527 non-null int64\n",
      "Hypertension        110527 non-null int64\n",
      "Diabetes            110527 non-null int64\n",
      "Alcoholism          110527 non-null int64\n",
      "Disability          110527 non-null int64\n",
      "SMS_sent            110527 non-null int64\n",
      "No_show             110527 non-null object\n",
      "dtypes: float64(1), int64(8), object(5)\n",
      "memory usage: 11.8+ MB\n"
     ]
    }
   ],
   "source": [
    "# Basic dataframe info\n",
    "df_raw.info()"
   ]
  },
  {
   "cell_type": "markdown",
   "metadata": {},
   "source": [
    "**Notes from above output:**\n",
    "- All fields appear to have no null values.\n",
    "- PatientId is type float64, but AppointmentID is type int64\n",
    "- Date(time?) fields: (need to convert)\n",
    "    - ScheduledDay\n",
    "    - AppointmentDay\n",
    "- Rename:\n",
    "    - 'PatientId' --> 'Patient_ID'\n",
    "    - 'AppointmentID' --> 'Appointment_ID'\n",
    "    - 'ScheduledDay' --> 'Scheduled_Date'\n",
    "    - 'AppointmentDay' --> 'Appointment_Date'\n",
    "    - 'Neighbourhood' --> 'Neighborhood'\n",
    "    - 'Scholarship' --> 'Welfare' (see note in reference https://en.wikipedia.org/wiki/Bolsa_Fam%C3%ADlia)\n",
    "    - 'Hipertension' --> 'Hypertension'\n",
    "    - 'Handcap' --> 'Disability'\n",
    "    - 'SMS_received' --> 'SMS_sent'\n",
    "    - 'No-show' --> 'No_show'"
   ]
  },
  {
   "cell_type": "code",
   "execution_count": 10,
   "metadata": {},
   "outputs": [
    {
     "data": {
      "text/plain": [
       "Index(['PatientId', 'AppointmentID', 'Gender', 'ScheduledDay',\n",
       "       'AppointmentDay', 'Age', 'Neighbourhood', 'Scholarship', 'Hipertension',\n",
       "       'Diabetes', 'Alcoholism', 'Handcap', 'SMS_received', 'No-show'],\n",
       "      dtype='object')"
      ]
     },
     "execution_count": 10,
     "metadata": {},
     "output_type": "execute_result"
    }
   ],
   "source": [
    "df_raw.columns"
   ]
  },
  {
   "cell_type": "code",
   "execution_count": 11,
   "metadata": {
    "collapsed": true
   },
   "outputs": [],
   "source": [
    "df_raw.columns = ['Patient_ID',\n",
    "                  'Appointment_ID',\n",
    "                  'Gender',\n",
    "                  'Scheduled_Date',\n",
    "                  'Appointment_Date',\n",
    "                  'Age',\n",
    "                  'Neighborhood',\n",
    "                  'Welfare',\n",
    "                  'Hypertension',\n",
    "                  'Diabetes',\n",
    "                  'Alcoholism',\n",
    "                  'Disability',\n",
    "                  'SMS_sent',\n",
    "                  'No_show']"
   ]
  },
  {
   "cell_type": "code",
   "execution_count": 12,
   "metadata": {},
   "outputs": [
    {
     "data": {
      "text/html": [
       "<div>\n",
       "<style>\n",
       "    .dataframe thead tr:only-child th {\n",
       "        text-align: right;\n",
       "    }\n",
       "\n",
       "    .dataframe thead th {\n",
       "        text-align: left;\n",
       "    }\n",
       "\n",
       "    .dataframe tbody tr th {\n",
       "        vertical-align: top;\n",
       "    }\n",
       "</style>\n",
       "<table border=\"1\" class=\"dataframe\">\n",
       "  <thead>\n",
       "    <tr style=\"text-align: right;\">\n",
       "      <th></th>\n",
       "      <th>Patient_ID</th>\n",
       "      <th>Appointment_ID</th>\n",
       "      <th>Age</th>\n",
       "      <th>Welfare</th>\n",
       "      <th>Hypertension</th>\n",
       "      <th>Diabetes</th>\n",
       "      <th>Alcoholism</th>\n",
       "      <th>Disability</th>\n",
       "      <th>SMS_sent</th>\n",
       "    </tr>\n",
       "  </thead>\n",
       "  <tbody>\n",
       "    <tr>\n",
       "      <th>count</th>\n",
       "      <td>1.105270e+05</td>\n",
       "      <td>1.105270e+05</td>\n",
       "      <td>110527.000000</td>\n",
       "      <td>110527.000000</td>\n",
       "      <td>110527.000000</td>\n",
       "      <td>110527.000000</td>\n",
       "      <td>110527.000000</td>\n",
       "      <td>110527.000000</td>\n",
       "      <td>110527.000000</td>\n",
       "    </tr>\n",
       "    <tr>\n",
       "      <th>mean</th>\n",
       "      <td>1.474963e+14</td>\n",
       "      <td>5.675305e+06</td>\n",
       "      <td>37.088874</td>\n",
       "      <td>0.098266</td>\n",
       "      <td>0.197246</td>\n",
       "      <td>0.071865</td>\n",
       "      <td>0.030400</td>\n",
       "      <td>0.022248</td>\n",
       "      <td>0.321026</td>\n",
       "    </tr>\n",
       "    <tr>\n",
       "      <th>std</th>\n",
       "      <td>2.560949e+14</td>\n",
       "      <td>7.129575e+04</td>\n",
       "      <td>23.110205</td>\n",
       "      <td>0.297675</td>\n",
       "      <td>0.397921</td>\n",
       "      <td>0.258265</td>\n",
       "      <td>0.171686</td>\n",
       "      <td>0.161543</td>\n",
       "      <td>0.466873</td>\n",
       "    </tr>\n",
       "    <tr>\n",
       "      <th>min</th>\n",
       "      <td>3.921784e+04</td>\n",
       "      <td>5.030230e+06</td>\n",
       "      <td>-1.000000</td>\n",
       "      <td>0.000000</td>\n",
       "      <td>0.000000</td>\n",
       "      <td>0.000000</td>\n",
       "      <td>0.000000</td>\n",
       "      <td>0.000000</td>\n",
       "      <td>0.000000</td>\n",
       "    </tr>\n",
       "    <tr>\n",
       "      <th>25%</th>\n",
       "      <td>4.172614e+12</td>\n",
       "      <td>5.640286e+06</td>\n",
       "      <td>18.000000</td>\n",
       "      <td>0.000000</td>\n",
       "      <td>0.000000</td>\n",
       "      <td>0.000000</td>\n",
       "      <td>0.000000</td>\n",
       "      <td>0.000000</td>\n",
       "      <td>0.000000</td>\n",
       "    </tr>\n",
       "    <tr>\n",
       "      <th>50%</th>\n",
       "      <td>3.173184e+13</td>\n",
       "      <td>5.680573e+06</td>\n",
       "      <td>37.000000</td>\n",
       "      <td>0.000000</td>\n",
       "      <td>0.000000</td>\n",
       "      <td>0.000000</td>\n",
       "      <td>0.000000</td>\n",
       "      <td>0.000000</td>\n",
       "      <td>0.000000</td>\n",
       "    </tr>\n",
       "    <tr>\n",
       "      <th>75%</th>\n",
       "      <td>9.439172e+13</td>\n",
       "      <td>5.725524e+06</td>\n",
       "      <td>55.000000</td>\n",
       "      <td>0.000000</td>\n",
       "      <td>0.000000</td>\n",
       "      <td>0.000000</td>\n",
       "      <td>0.000000</td>\n",
       "      <td>0.000000</td>\n",
       "      <td>1.000000</td>\n",
       "    </tr>\n",
       "    <tr>\n",
       "      <th>max</th>\n",
       "      <td>9.999816e+14</td>\n",
       "      <td>5.790484e+06</td>\n",
       "      <td>115.000000</td>\n",
       "      <td>1.000000</td>\n",
       "      <td>1.000000</td>\n",
       "      <td>1.000000</td>\n",
       "      <td>1.000000</td>\n",
       "      <td>4.000000</td>\n",
       "      <td>1.000000</td>\n",
       "    </tr>\n",
       "  </tbody>\n",
       "</table>\n",
       "</div>"
      ],
      "text/plain": [
       "         Patient_ID  Appointment_ID            Age        Welfare  \\\n",
       "count  1.105270e+05    1.105270e+05  110527.000000  110527.000000   \n",
       "mean   1.474963e+14    5.675305e+06      37.088874       0.098266   \n",
       "std    2.560949e+14    7.129575e+04      23.110205       0.297675   \n",
       "min    3.921784e+04    5.030230e+06      -1.000000       0.000000   \n",
       "25%    4.172614e+12    5.640286e+06      18.000000       0.000000   \n",
       "50%    3.173184e+13    5.680573e+06      37.000000       0.000000   \n",
       "75%    9.439172e+13    5.725524e+06      55.000000       0.000000   \n",
       "max    9.999816e+14    5.790484e+06     115.000000       1.000000   \n",
       "\n",
       "        Hypertension       Diabetes     Alcoholism     Disability  \\\n",
       "count  110527.000000  110527.000000  110527.000000  110527.000000   \n",
       "mean        0.197246       0.071865       0.030400       0.022248   \n",
       "std         0.397921       0.258265       0.171686       0.161543   \n",
       "min         0.000000       0.000000       0.000000       0.000000   \n",
       "25%         0.000000       0.000000       0.000000       0.000000   \n",
       "50%         0.000000       0.000000       0.000000       0.000000   \n",
       "75%         0.000000       0.000000       0.000000       0.000000   \n",
       "max         1.000000       1.000000       1.000000       4.000000   \n",
       "\n",
       "            SMS_sent  \n",
       "count  110527.000000  \n",
       "mean        0.321026  \n",
       "std         0.466873  \n",
       "min         0.000000  \n",
       "25%         0.000000  \n",
       "50%         0.000000  \n",
       "75%         1.000000  \n",
       "max         1.000000  "
      ]
     },
     "execution_count": 12,
     "metadata": {},
     "output_type": "execute_result"
    }
   ],
   "source": [
    "# Describe\n",
    "df_raw.describe()"
   ]
  },
  {
   "cell_type": "code",
   "execution_count": 14,
   "metadata": {},
   "outputs": [
    {
     "data": {
      "text/plain": [
       "0         2016-04-29T18:38:08Z\n",
       "1         2016-04-29T16:08:27Z\n",
       "2         2016-04-29T16:19:04Z\n",
       "3         2016-04-29T17:29:31Z\n",
       "4         2016-04-29T16:07:23Z\n",
       "5         2016-04-27T08:36:51Z\n",
       "6         2016-04-27T15:05:12Z\n",
       "7         2016-04-27T15:39:58Z\n",
       "8         2016-04-29T08:02:16Z\n",
       "9         2016-04-27T12:48:25Z\n",
       "10        2016-04-27T14:58:11Z\n",
       "11        2016-04-26T08:44:12Z\n",
       "12        2016-04-28T11:33:51Z\n",
       "13        2016-04-28T14:52:07Z\n",
       "14        2016-04-28T10:06:24Z\n",
       "15        2016-04-26T08:47:27Z\n",
       "16        2016-04-28T08:51:47Z\n",
       "17        2016-04-28T09:28:57Z\n",
       "18        2016-04-26T10:54:18Z\n",
       "19        2016-04-29T10:43:14Z\n",
       "20        2016-04-27T07:51:14Z\n",
       "21        2016-04-27T10:50:45Z\n",
       "22        2016-04-25T13:29:16Z\n",
       "23        2016-04-28T10:27:05Z\n",
       "24        2016-04-29T14:19:19Z\n",
       "25        2016-04-26T15:04:17Z\n",
       "26        2016-04-29T14:19:42Z\n",
       "27        2016-04-27T10:51:45Z\n",
       "28        2016-04-29T15:48:02Z\n",
       "29        2016-04-29T15:16:29Z\n",
       "                  ...         \n",
       "110497    2016-06-01T09:46:33Z\n",
       "110498    2016-06-08T10:21:14Z\n",
       "110499    2016-06-01T09:42:56Z\n",
       "110500    2016-06-08T09:35:13Z\n",
       "110501    2016-06-01T10:19:12Z\n",
       "110502    2016-06-08T10:50:42Z\n",
       "110503    2016-06-01T13:00:36Z\n",
       "110504    2016-06-08T11:06:21Z\n",
       "110505    2016-06-01T10:45:50Z\n",
       "110506    2016-06-01T11:09:20Z\n",
       "110507    2016-06-08T09:04:18Z\n",
       "110508    2016-06-01T09:41:00Z\n",
       "110509    2016-06-08T08:50:51Z\n",
       "110510    2016-06-01T09:35:48Z\n",
       "110511    2016-06-08T08:50:20Z\n",
       "110512    2016-06-08T08:20:01Z\n",
       "110513    2016-06-08T07:52:55Z\n",
       "110514    2016-06-08T08:35:31Z\n",
       "110515    2016-06-06T15:58:05Z\n",
       "110516    2016-06-07T07:45:16Z\n",
       "110517    2016-06-07T07:38:34Z\n",
       "110518    2016-04-27T15:15:06Z\n",
       "110519    2016-04-27T15:23:14Z\n",
       "110520    2016-05-03T07:51:47Z\n",
       "110521    2016-05-03T08:23:40Z\n",
       "110522    2016-05-03T09:15:35Z\n",
       "110523    2016-05-03T07:27:33Z\n",
       "110524    2016-04-27T16:03:52Z\n",
       "110525    2016-04-27T15:09:23Z\n",
       "110526    2016-04-27T13:30:56Z\n",
       "Name: Scheduled_Date, Length: 110527, dtype: object"
      ]
     },
     "execution_count": 14,
     "metadata": {},
     "output_type": "execute_result"
    }
   ],
   "source": [
    "df_raw['Scheduled_Date']"
   ]
  },
  {
   "cell_type": "code",
   "execution_count": 15,
   "metadata": {},
   "outputs": [
    {
     "data": {
      "text/plain": [
       "0        2016-04-29 18:38:08\n",
       "1        2016-04-29 16:08:27\n",
       "2        2016-04-29 16:19:04\n",
       "3        2016-04-29 17:29:31\n",
       "4        2016-04-29 16:07:23\n",
       "5        2016-04-27 08:36:51\n",
       "6        2016-04-27 15:05:12\n",
       "7        2016-04-27 15:39:58\n",
       "8        2016-04-29 08:02:16\n",
       "9        2016-04-27 12:48:25\n",
       "10       2016-04-27 14:58:11\n",
       "11       2016-04-26 08:44:12\n",
       "12       2016-04-28 11:33:51\n",
       "13       2016-04-28 14:52:07\n",
       "14       2016-04-28 10:06:24\n",
       "15       2016-04-26 08:47:27\n",
       "16       2016-04-28 08:51:47\n",
       "17       2016-04-28 09:28:57\n",
       "18       2016-04-26 10:54:18\n",
       "19       2016-04-29 10:43:14\n",
       "20       2016-04-27 07:51:14\n",
       "21       2016-04-27 10:50:45\n",
       "22       2016-04-25 13:29:16\n",
       "23       2016-04-28 10:27:05\n",
       "24       2016-04-29 14:19:19\n",
       "25       2016-04-26 15:04:17\n",
       "26       2016-04-29 14:19:42\n",
       "27       2016-04-27 10:51:45\n",
       "28       2016-04-29 15:48:02\n",
       "29       2016-04-29 15:16:29\n",
       "                 ...        \n",
       "110497   2016-06-01 09:46:33\n",
       "110498   2016-06-08 10:21:14\n",
       "110499   2016-06-01 09:42:56\n",
       "110500   2016-06-08 09:35:13\n",
       "110501   2016-06-01 10:19:12\n",
       "110502   2016-06-08 10:50:42\n",
       "110503   2016-06-01 13:00:36\n",
       "110504   2016-06-08 11:06:21\n",
       "110505   2016-06-01 10:45:50\n",
       "110506   2016-06-01 11:09:20\n",
       "110507   2016-06-08 09:04:18\n",
       "110508   2016-06-01 09:41:00\n",
       "110509   2016-06-08 08:50:51\n",
       "110510   2016-06-01 09:35:48\n",
       "110511   2016-06-08 08:50:20\n",
       "110512   2016-06-08 08:20:01\n",
       "110513   2016-06-08 07:52:55\n",
       "110514   2016-06-08 08:35:31\n",
       "110515   2016-06-06 15:58:05\n",
       "110516   2016-06-07 07:45:16\n",
       "110517   2016-06-07 07:38:34\n",
       "110518   2016-04-27 15:15:06\n",
       "110519   2016-04-27 15:23:14\n",
       "110520   2016-05-03 07:51:47\n",
       "110521   2016-05-03 08:23:40\n",
       "110522   2016-05-03 09:15:35\n",
       "110523   2016-05-03 07:27:33\n",
       "110524   2016-04-27 16:03:52\n",
       "110525   2016-04-27 15:09:23\n",
       "110526   2016-04-27 13:30:56\n",
       "Name: Scheduled_Date, Length: 110527, dtype: datetime64[ns]"
      ]
     },
     "execution_count": 15,
     "metadata": {},
     "output_type": "execute_result"
    }
   ],
   "source": [
    "pd.to_datetime(df_raw['Scheduled_Date'])"
   ]
  },
  {
   "cell_type": "code",
   "execution_count": 16,
   "metadata": {
    "collapsed": true
   },
   "outputs": [],
   "source": [
    "df_raw['Scheduled_Date'] = pd.to_datetime(df_raw['Scheduled_Date'])"
   ]
  },
  {
   "cell_type": "code",
   "execution_count": 17,
   "metadata": {},
   "outputs": [
    {
     "data": {
      "text/plain": [
       "0         2016-04-29T00:00:00Z\n",
       "1         2016-04-29T00:00:00Z\n",
       "2         2016-04-29T00:00:00Z\n",
       "3         2016-04-29T00:00:00Z\n",
       "4         2016-04-29T00:00:00Z\n",
       "5         2016-04-29T00:00:00Z\n",
       "6         2016-04-29T00:00:00Z\n",
       "7         2016-04-29T00:00:00Z\n",
       "8         2016-04-29T00:00:00Z\n",
       "9         2016-04-29T00:00:00Z\n",
       "10        2016-04-29T00:00:00Z\n",
       "11        2016-04-29T00:00:00Z\n",
       "12        2016-04-29T00:00:00Z\n",
       "13        2016-04-29T00:00:00Z\n",
       "14        2016-04-29T00:00:00Z\n",
       "15        2016-04-29T00:00:00Z\n",
       "16        2016-04-29T00:00:00Z\n",
       "17        2016-04-29T00:00:00Z\n",
       "18        2016-04-29T00:00:00Z\n",
       "19        2016-04-29T00:00:00Z\n",
       "20        2016-04-29T00:00:00Z\n",
       "21        2016-04-29T00:00:00Z\n",
       "22        2016-04-29T00:00:00Z\n",
       "23        2016-04-29T00:00:00Z\n",
       "24        2016-04-29T00:00:00Z\n",
       "25        2016-04-29T00:00:00Z\n",
       "26        2016-04-29T00:00:00Z\n",
       "27        2016-04-29T00:00:00Z\n",
       "28        2016-04-29T00:00:00Z\n",
       "29        2016-04-29T00:00:00Z\n",
       "                  ...         \n",
       "110497    2016-06-01T00:00:00Z\n",
       "110498    2016-06-08T00:00:00Z\n",
       "110499    2016-06-01T00:00:00Z\n",
       "110500    2016-06-08T00:00:00Z\n",
       "110501    2016-06-01T00:00:00Z\n",
       "110502    2016-06-08T00:00:00Z\n",
       "110503    2016-06-01T00:00:00Z\n",
       "110504    2016-06-08T00:00:00Z\n",
       "110505    2016-06-01T00:00:00Z\n",
       "110506    2016-06-01T00:00:00Z\n",
       "110507    2016-06-08T00:00:00Z\n",
       "110508    2016-06-01T00:00:00Z\n",
       "110509    2016-06-08T00:00:00Z\n",
       "110510    2016-06-01T00:00:00Z\n",
       "110511    2016-06-08T00:00:00Z\n",
       "110512    2016-06-08T00:00:00Z\n",
       "110513    2016-06-08T00:00:00Z\n",
       "110514    2016-06-08T00:00:00Z\n",
       "110515    2016-06-08T00:00:00Z\n",
       "110516    2016-06-08T00:00:00Z\n",
       "110517    2016-06-07T00:00:00Z\n",
       "110518    2016-06-07T00:00:00Z\n",
       "110519    2016-06-07T00:00:00Z\n",
       "110520    2016-06-07T00:00:00Z\n",
       "110521    2016-06-07T00:00:00Z\n",
       "110522    2016-06-07T00:00:00Z\n",
       "110523    2016-06-07T00:00:00Z\n",
       "110524    2016-06-07T00:00:00Z\n",
       "110525    2016-06-07T00:00:00Z\n",
       "110526    2016-06-07T00:00:00Z\n",
       "Name: Appointment_Date, Length: 110527, dtype: object"
      ]
     },
     "execution_count": 17,
     "metadata": {},
     "output_type": "execute_result"
    }
   ],
   "source": [
    "df_raw['Appointment_Date']"
   ]
  },
  {
   "cell_type": "code",
   "execution_count": 18,
   "metadata": {},
   "outputs": [
    {
     "data": {
      "text/plain": [
       "0        2016-04-29\n",
       "1        2016-04-29\n",
       "2        2016-04-29\n",
       "3        2016-04-29\n",
       "4        2016-04-29\n",
       "5        2016-04-29\n",
       "6        2016-04-29\n",
       "7        2016-04-29\n",
       "8        2016-04-29\n",
       "9        2016-04-29\n",
       "10       2016-04-29\n",
       "11       2016-04-29\n",
       "12       2016-04-29\n",
       "13       2016-04-29\n",
       "14       2016-04-29\n",
       "15       2016-04-29\n",
       "16       2016-04-29\n",
       "17       2016-04-29\n",
       "18       2016-04-29\n",
       "19       2016-04-29\n",
       "20       2016-04-29\n",
       "21       2016-04-29\n",
       "22       2016-04-29\n",
       "23       2016-04-29\n",
       "24       2016-04-29\n",
       "25       2016-04-29\n",
       "26       2016-04-29\n",
       "27       2016-04-29\n",
       "28       2016-04-29\n",
       "29       2016-04-29\n",
       "            ...    \n",
       "110497   2016-06-01\n",
       "110498   2016-06-08\n",
       "110499   2016-06-01\n",
       "110500   2016-06-08\n",
       "110501   2016-06-01\n",
       "110502   2016-06-08\n",
       "110503   2016-06-01\n",
       "110504   2016-06-08\n",
       "110505   2016-06-01\n",
       "110506   2016-06-01\n",
       "110507   2016-06-08\n",
       "110508   2016-06-01\n",
       "110509   2016-06-08\n",
       "110510   2016-06-01\n",
       "110511   2016-06-08\n",
       "110512   2016-06-08\n",
       "110513   2016-06-08\n",
       "110514   2016-06-08\n",
       "110515   2016-06-08\n",
       "110516   2016-06-08\n",
       "110517   2016-06-07\n",
       "110518   2016-06-07\n",
       "110519   2016-06-07\n",
       "110520   2016-06-07\n",
       "110521   2016-06-07\n",
       "110522   2016-06-07\n",
       "110523   2016-06-07\n",
       "110524   2016-06-07\n",
       "110525   2016-06-07\n",
       "110526   2016-06-07\n",
       "Name: Appointment_Date, Length: 110527, dtype: datetime64[ns]"
      ]
     },
     "execution_count": 18,
     "metadata": {},
     "output_type": "execute_result"
    }
   ],
   "source": [
    "pd.to_datetime(df_raw['Appointment_Date'])"
   ]
  },
  {
   "cell_type": "code",
   "execution_count": 19,
   "metadata": {
    "collapsed": true
   },
   "outputs": [],
   "source": [
    "df_raw['Appointment_Date'] = pd.to_datetime(df_raw['Appointment_Date'])"
   ]
  },
  {
   "cell_type": "code",
   "execution_count": 20,
   "metadata": {},
   "outputs": [
    {
     "data": {
      "text/html": [
       "<div>\n",
       "<style>\n",
       "    .dataframe thead tr:only-child th {\n",
       "        text-align: right;\n",
       "    }\n",
       "\n",
       "    .dataframe thead th {\n",
       "        text-align: left;\n",
       "    }\n",
       "\n",
       "    .dataframe tbody tr th {\n",
       "        vertical-align: top;\n",
       "    }\n",
       "</style>\n",
       "<table border=\"1\" class=\"dataframe\">\n",
       "  <thead>\n",
       "    <tr style=\"text-align: right;\">\n",
       "      <th></th>\n",
       "      <th>Patient_ID</th>\n",
       "      <th>Appointment_ID</th>\n",
       "      <th>Gender</th>\n",
       "      <th>Scheduled_Date</th>\n",
       "      <th>Appointment_Date</th>\n",
       "      <th>Age</th>\n",
       "      <th>Neighborhood</th>\n",
       "      <th>Welfare</th>\n",
       "      <th>Hypertension</th>\n",
       "      <th>Diabetes</th>\n",
       "      <th>Alcoholism</th>\n",
       "      <th>Disability</th>\n",
       "      <th>SMS_sent</th>\n",
       "      <th>No_show</th>\n",
       "    </tr>\n",
       "  </thead>\n",
       "  <tbody>\n",
       "    <tr>\n",
       "      <th>0</th>\n",
       "      <td>2.987250e+13</td>\n",
       "      <td>5642903</td>\n",
       "      <td>F</td>\n",
       "      <td>2016-04-29 18:38:08</td>\n",
       "      <td>2016-04-29</td>\n",
       "      <td>62</td>\n",
       "      <td>JARDIM DA PENHA</td>\n",
       "      <td>0</td>\n",
       "      <td>1</td>\n",
       "      <td>0</td>\n",
       "      <td>0</td>\n",
       "      <td>0</td>\n",
       "      <td>0</td>\n",
       "      <td>No</td>\n",
       "    </tr>\n",
       "    <tr>\n",
       "      <th>1</th>\n",
       "      <td>5.589978e+14</td>\n",
       "      <td>5642503</td>\n",
       "      <td>M</td>\n",
       "      <td>2016-04-29 16:08:27</td>\n",
       "      <td>2016-04-29</td>\n",
       "      <td>56</td>\n",
       "      <td>JARDIM DA PENHA</td>\n",
       "      <td>0</td>\n",
       "      <td>0</td>\n",
       "      <td>0</td>\n",
       "      <td>0</td>\n",
       "      <td>0</td>\n",
       "      <td>0</td>\n",
       "      <td>No</td>\n",
       "    </tr>\n",
       "    <tr>\n",
       "      <th>2</th>\n",
       "      <td>4.262962e+12</td>\n",
       "      <td>5642549</td>\n",
       "      <td>F</td>\n",
       "      <td>2016-04-29 16:19:04</td>\n",
       "      <td>2016-04-29</td>\n",
       "      <td>62</td>\n",
       "      <td>MATA DA PRAIA</td>\n",
       "      <td>0</td>\n",
       "      <td>0</td>\n",
       "      <td>0</td>\n",
       "      <td>0</td>\n",
       "      <td>0</td>\n",
       "      <td>0</td>\n",
       "      <td>No</td>\n",
       "    </tr>\n",
       "    <tr>\n",
       "      <th>3</th>\n",
       "      <td>8.679512e+11</td>\n",
       "      <td>5642828</td>\n",
       "      <td>F</td>\n",
       "      <td>2016-04-29 17:29:31</td>\n",
       "      <td>2016-04-29</td>\n",
       "      <td>8</td>\n",
       "      <td>PONTAL DE CAMBURI</td>\n",
       "      <td>0</td>\n",
       "      <td>0</td>\n",
       "      <td>0</td>\n",
       "      <td>0</td>\n",
       "      <td>0</td>\n",
       "      <td>0</td>\n",
       "      <td>No</td>\n",
       "    </tr>\n",
       "    <tr>\n",
       "      <th>4</th>\n",
       "      <td>8.841186e+12</td>\n",
       "      <td>5642494</td>\n",
       "      <td>F</td>\n",
       "      <td>2016-04-29 16:07:23</td>\n",
       "      <td>2016-04-29</td>\n",
       "      <td>56</td>\n",
       "      <td>JARDIM DA PENHA</td>\n",
       "      <td>0</td>\n",
       "      <td>1</td>\n",
       "      <td>1</td>\n",
       "      <td>0</td>\n",
       "      <td>0</td>\n",
       "      <td>0</td>\n",
       "      <td>No</td>\n",
       "    </tr>\n",
       "  </tbody>\n",
       "</table>\n",
       "</div>"
      ],
      "text/plain": [
       "     Patient_ID  Appointment_ID Gender      Scheduled_Date Appointment_Date  \\\n",
       "0  2.987250e+13         5642903      F 2016-04-29 18:38:08       2016-04-29   \n",
       "1  5.589978e+14         5642503      M 2016-04-29 16:08:27       2016-04-29   \n",
       "2  4.262962e+12         5642549      F 2016-04-29 16:19:04       2016-04-29   \n",
       "3  8.679512e+11         5642828      F 2016-04-29 17:29:31       2016-04-29   \n",
       "4  8.841186e+12         5642494      F 2016-04-29 16:07:23       2016-04-29   \n",
       "\n",
       "   Age       Neighborhood  Welfare  Hypertension  Diabetes  Alcoholism  \\\n",
       "0   62    JARDIM DA PENHA        0             1         0           0   \n",
       "1   56    JARDIM DA PENHA        0             0         0           0   \n",
       "2   62      MATA DA PRAIA        0             0         0           0   \n",
       "3    8  PONTAL DE CAMBURI        0             0         0           0   \n",
       "4   56    JARDIM DA PENHA        0             1         1           0   \n",
       "\n",
       "   Disability  SMS_sent No_show  \n",
       "0           0         0      No  \n",
       "1           0         0      No  \n",
       "2           0         0      No  \n",
       "3           0         0      No  \n",
       "4           0         0      No  "
      ]
     },
     "execution_count": 20,
     "metadata": {},
     "output_type": "execute_result"
    }
   ],
   "source": [
    "df_raw.head()"
   ]
  },
  {
   "cell_type": "code",
   "execution_count": 23,
   "metadata": {},
   "outputs": [
    {
     "data": {
      "text/plain": [
       "8.221459e+14    88\n",
       "9.963767e+10    84\n",
       "2.688613e+13    70\n",
       "3.353478e+13    65\n",
       "2.584244e+11    62\n",
       "7.579746e+13    62\n",
       "8.713749e+14    62\n",
       "6.264199e+12    62\n",
       "6.684488e+13    57\n",
       "8.722785e+11    55\n",
       "8.923969e+13    54\n",
       "8.435224e+09    51\n",
       "8.534397e+14    50\n",
       "1.447997e+13    46\n",
       "6.543360e+13    46\n",
       "8.189452e+13    42\n",
       "9.452745e+12    42\n",
       "1.882323e+14    40\n",
       "9.496197e+12    38\n",
       "2.271580e+12    38\n",
       "1.336493e+13    37\n",
       "1.484143e+12    35\n",
       "8.883500e+13    34\n",
       "9.861628e+14    34\n",
       "7.124589e+14    33\n",
       "4.167557e+14    30\n",
       "6.128878e+12    30\n",
       "8.121397e+13    29\n",
       "8.634164e+12    24\n",
       "3.699499e+13    23\n",
       "                ..\n",
       "6.375629e+12     1\n",
       "9.369127e+12     1\n",
       "5.375556e+14     1\n",
       "1.662184e+11     1\n",
       "7.234615e+13     1\n",
       "9.649990e+12     1\n",
       "6.912783e+10     1\n",
       "1.954265e+13     1\n",
       "2.736377e+10     1\n",
       "5.532694e+11     1\n",
       "7.149583e+12     1\n",
       "8.676752e+13     1\n",
       "7.838359e+13     1\n",
       "5.962625e+11     1\n",
       "4.919862e+13     1\n",
       "3.477350e+14     1\n",
       "1.626595e+13     1\n",
       "7.794917e+12     1\n",
       "1.161950e+13     1\n",
       "5.615364e+14     1\n",
       "4.355592e+11     1\n",
       "1.321328e+12     1\n",
       "1.751987e+13     1\n",
       "4.262579e+13     1\n",
       "3.115681e+13     1\n",
       "1.222828e+13     1\n",
       "6.821231e+11     1\n",
       "7.163981e+14     1\n",
       "9.798964e+14     1\n",
       "2.724571e+11     1\n",
       "Name: Patient_ID, Length: 62299, dtype: int64"
      ]
     },
     "execution_count": 23,
     "metadata": {},
     "output_type": "execute_result"
    }
   ],
   "source": [
    "df_raw['Patient_ID'].value_counts()"
   ]
  },
  {
   "cell_type": "code",
   "execution_count": 25,
   "metadata": {},
   "outputs": [
    {
     "data": {
      "text/plain": [
       "1"
      ]
     },
     "execution_count": 25,
     "metadata": {},
     "output_type": "execute_result"
    }
   ],
   "source": [
    "df_raw['Appointment_ID'].value_counts().max()"
   ]
  },
  {
   "cell_type": "markdown",
   "metadata": {},
   "source": [
    "**Appointment_ID is unique ID**"
   ]
  },
  {
   "cell_type": "code",
   "execution_count": 26,
   "metadata": {},
   "outputs": [
    {
     "data": {
      "text/plain": [
       "Index(['Patient_ID', 'Appointment_ID', 'Gender', 'Scheduled_Date',\n",
       "       'Appointment_Date', 'Age', 'Neighborhood', 'Welfare', 'Hypertension',\n",
       "       'Diabetes', 'Alcoholism', 'Disability', 'SMS_sent', 'No_show'],\n",
       "      dtype='object')"
      ]
     },
     "execution_count": 26,
     "metadata": {},
     "output_type": "execute_result"
    }
   ],
   "source": [
    "df_raw.columns"
   ]
  },
  {
   "cell_type": "code",
   "execution_count": 34,
   "metadata": {},
   "outputs": [
    {
     "data": {
      "text/html": [
       "<div>\n",
       "<style>\n",
       "    .dataframe thead tr:only-child th {\n",
       "        text-align: right;\n",
       "    }\n",
       "\n",
       "    .dataframe thead th {\n",
       "        text-align: left;\n",
       "    }\n",
       "\n",
       "    .dataframe tbody tr th {\n",
       "        vertical-align: top;\n",
       "    }\n",
       "</style>\n",
       "<table border=\"1\" class=\"dataframe\">\n",
       "  <thead>\n",
       "    <tr style=\"text-align: right;\">\n",
       "      <th></th>\n",
       "      <th>Patient_ID</th>\n",
       "      <th>Appointment_ID</th>\n",
       "      <th>Age</th>\n",
       "      <th>Welfare</th>\n",
       "      <th>Hypertension</th>\n",
       "      <th>Diabetes</th>\n",
       "      <th>Alcoholism</th>\n",
       "      <th>Disability</th>\n",
       "      <th>SMS_sent</th>\n",
       "    </tr>\n",
       "  </thead>\n",
       "  <tbody>\n",
       "    <tr>\n",
       "      <th>count</th>\n",
       "      <td>1.105270e+05</td>\n",
       "      <td>1.105270e+05</td>\n",
       "      <td>110527.000000</td>\n",
       "      <td>110527.000000</td>\n",
       "      <td>110527.000000</td>\n",
       "      <td>110527.000000</td>\n",
       "      <td>110527.000000</td>\n",
       "      <td>110527.000000</td>\n",
       "      <td>110527.000000</td>\n",
       "    </tr>\n",
       "    <tr>\n",
       "      <th>mean</th>\n",
       "      <td>1.474963e+14</td>\n",
       "      <td>5.675305e+06</td>\n",
       "      <td>37.088874</td>\n",
       "      <td>0.098266</td>\n",
       "      <td>0.197246</td>\n",
       "      <td>0.071865</td>\n",
       "      <td>0.030400</td>\n",
       "      <td>0.022248</td>\n",
       "      <td>0.321026</td>\n",
       "    </tr>\n",
       "    <tr>\n",
       "      <th>std</th>\n",
       "      <td>2.560949e+14</td>\n",
       "      <td>7.129575e+04</td>\n",
       "      <td>23.110205</td>\n",
       "      <td>0.297675</td>\n",
       "      <td>0.397921</td>\n",
       "      <td>0.258265</td>\n",
       "      <td>0.171686</td>\n",
       "      <td>0.161543</td>\n",
       "      <td>0.466873</td>\n",
       "    </tr>\n",
       "    <tr>\n",
       "      <th>min</th>\n",
       "      <td>3.921784e+04</td>\n",
       "      <td>5.030230e+06</td>\n",
       "      <td>-1.000000</td>\n",
       "      <td>0.000000</td>\n",
       "      <td>0.000000</td>\n",
       "      <td>0.000000</td>\n",
       "      <td>0.000000</td>\n",
       "      <td>0.000000</td>\n",
       "      <td>0.000000</td>\n",
       "    </tr>\n",
       "    <tr>\n",
       "      <th>25%</th>\n",
       "      <td>4.172614e+12</td>\n",
       "      <td>5.640286e+06</td>\n",
       "      <td>18.000000</td>\n",
       "      <td>0.000000</td>\n",
       "      <td>0.000000</td>\n",
       "      <td>0.000000</td>\n",
       "      <td>0.000000</td>\n",
       "      <td>0.000000</td>\n",
       "      <td>0.000000</td>\n",
       "    </tr>\n",
       "    <tr>\n",
       "      <th>50%</th>\n",
       "      <td>3.173184e+13</td>\n",
       "      <td>5.680573e+06</td>\n",
       "      <td>37.000000</td>\n",
       "      <td>0.000000</td>\n",
       "      <td>0.000000</td>\n",
       "      <td>0.000000</td>\n",
       "      <td>0.000000</td>\n",
       "      <td>0.000000</td>\n",
       "      <td>0.000000</td>\n",
       "    </tr>\n",
       "    <tr>\n",
       "      <th>75%</th>\n",
       "      <td>9.439172e+13</td>\n",
       "      <td>5.725524e+06</td>\n",
       "      <td>55.000000</td>\n",
       "      <td>0.000000</td>\n",
       "      <td>0.000000</td>\n",
       "      <td>0.000000</td>\n",
       "      <td>0.000000</td>\n",
       "      <td>0.000000</td>\n",
       "      <td>1.000000</td>\n",
       "    </tr>\n",
       "    <tr>\n",
       "      <th>max</th>\n",
       "      <td>9.999816e+14</td>\n",
       "      <td>5.790484e+06</td>\n",
       "      <td>115.000000</td>\n",
       "      <td>1.000000</td>\n",
       "      <td>1.000000</td>\n",
       "      <td>1.000000</td>\n",
       "      <td>1.000000</td>\n",
       "      <td>4.000000</td>\n",
       "      <td>1.000000</td>\n",
       "    </tr>\n",
       "  </tbody>\n",
       "</table>\n",
       "</div>"
      ],
      "text/plain": [
       "         Patient_ID  Appointment_ID            Age        Welfare  \\\n",
       "count  1.105270e+05    1.105270e+05  110527.000000  110527.000000   \n",
       "mean   1.474963e+14    5.675305e+06      37.088874       0.098266   \n",
       "std    2.560949e+14    7.129575e+04      23.110205       0.297675   \n",
       "min    3.921784e+04    5.030230e+06      -1.000000       0.000000   \n",
       "25%    4.172614e+12    5.640286e+06      18.000000       0.000000   \n",
       "50%    3.173184e+13    5.680573e+06      37.000000       0.000000   \n",
       "75%    9.439172e+13    5.725524e+06      55.000000       0.000000   \n",
       "max    9.999816e+14    5.790484e+06     115.000000       1.000000   \n",
       "\n",
       "        Hypertension       Diabetes     Alcoholism     Disability  \\\n",
       "count  110527.000000  110527.000000  110527.000000  110527.000000   \n",
       "mean        0.197246       0.071865       0.030400       0.022248   \n",
       "std         0.397921       0.258265       0.171686       0.161543   \n",
       "min         0.000000       0.000000       0.000000       0.000000   \n",
       "25%         0.000000       0.000000       0.000000       0.000000   \n",
       "50%         0.000000       0.000000       0.000000       0.000000   \n",
       "75%         0.000000       0.000000       0.000000       0.000000   \n",
       "max         1.000000       1.000000       1.000000       4.000000   \n",
       "\n",
       "            SMS_sent  \n",
       "count  110527.000000  \n",
       "mean        0.321026  \n",
       "std         0.466873  \n",
       "min         0.000000  \n",
       "25%         0.000000  \n",
       "50%         0.000000  \n",
       "75%         1.000000  \n",
       "max         1.000000  "
      ]
     },
     "execution_count": 34,
     "metadata": {},
     "output_type": "execute_result"
    }
   ],
   "source": [
    "df_raw.describe()"
   ]
  },
  {
   "cell_type": "markdown",
   "metadata": {},
   "source": [
    "**Notes from `describe` above**\n",
    "\n",
    "- Age ranges from -1 to 115 (plot this)\n",
    "- Welfare, Hypertension, Diabetes, Alcoholism, and SMS_sent seem ok\n",
    "- Disability has a max of 4 (thought this was supposed to be binary...)\n",
    "\n",
    "Next steps:\n",
    "- Plot Age distribution\n",
    "- Histograms for Date columns\n",
    "- Unique values/counts for:\n",
    "    - Gender\n",
    "    - Neighborhood\n",
    "    - Disability\n",
    "    - No_show"
   ]
  },
  {
   "cell_type": "code",
   "execution_count": 39,
   "metadata": {},
   "outputs": [
    {
     "data": {
      "text/plain": [
       "F    71840\n",
       "M    38687\n",
       "Name: Gender, dtype: int64"
      ]
     },
     "execution_count": 39,
     "metadata": {},
     "output_type": "execute_result"
    }
   ],
   "source": [
    "df_raw.Gender.value_counts()"
   ]
  },
  {
   "cell_type": "code",
   "execution_count": 38,
   "metadata": {},
   "outputs": [
    {
     "data": {
      "text/plain": [
       "JARDIM CAMBURI                 7717\n",
       "MARIA ORTIZ                    5805\n",
       "RESISTÊNCIA                    4431\n",
       "JARDIM DA PENHA                3877\n",
       "ITARARÉ                        3514\n",
       "CENTRO                         3334\n",
       "TABUAZEIRO                     3132\n",
       "SANTA MARTHA                   3131\n",
       "JESUS DE NAZARETH              2853\n",
       "BONFIM                         2773\n",
       "SANTO ANTÔNIO                  2746\n",
       "SANTO ANDRÉ                    2571\n",
       "CARATOÍRA                      2565\n",
       "JABOUR                         2509\n",
       "SÃO PEDRO                      2448\n",
       "ILHA DO PRÍNCIPE               2266\n",
       "NOVA PALESTINA                 2264\n",
       "ANDORINHAS                     2262\n",
       "DA PENHA                       2217\n",
       "ROMÃO                          2215\n",
       "GURIGICA                       2018\n",
       "SÃO JOSÉ                       1977\n",
       "BELA VISTA                     1907\n",
       "MARUÍPE                        1902\n",
       "FORTE SÃO JOÃO                 1889\n",
       "ILHA DE SANTA MARIA            1885\n",
       "SÃO CRISTÓVÃO                  1836\n",
       "REDENÇÃO                       1553\n",
       "SÃO BENEDITO                   1439\n",
       "JOANA D´ARC                    1427\n",
       "                               ... \n",
       "SANTOS REIS                     547\n",
       "ESTRELINHA                      538\n",
       "SANTA CLARA                     506\n",
       "SOLON BORGES                    469\n",
       "PIEDADE                         452\n",
       "SANTA CECÍLIA                   448\n",
       "SANTA LÚCIA                     438\n",
       "SANTA LUÍZA                     428\n",
       "BARRO VERMELHO                  423\n",
       "DO MOSCOSO                      413\n",
       "MÁRIO CYPRESTE                  371\n",
       "BOA VISTA                       312\n",
       "COMDUSA                         310\n",
       "DE LOURDES                      305\n",
       "ARIOVALDO FAVALESSA             282\n",
       "ANTÔNIO HONÓRIO                 271\n",
       "FRADINHOS                       258\n",
       "ENSEADA DO SUÁ                  235\n",
       "SANTA HELENA                    178\n",
       "HORTO                           175\n",
       "UNIVERSITÁRIO                   152\n",
       "SEGURANÇA DO LAR                145\n",
       "NAZARETH                        135\n",
       "MORADA DE CAMBURI                96\n",
       "PONTAL DE CAMBURI                69\n",
       "ILHA DO BOI                      35\n",
       "ILHA DO FRADE                    10\n",
       "AEROPORTO                         8\n",
       "ILHAS OCEÂNICAS DE TRINDADE       2\n",
       "PARQUE INDUSTRIAL                 1\n",
       "Name: Neighborhood, Length: 81, dtype: int64"
      ]
     },
     "execution_count": 38,
     "metadata": {},
     "output_type": "execute_result"
    }
   ],
   "source": [
    "df_raw.Neighborhood.value_counts()"
   ]
  },
  {
   "cell_type": "code",
   "execution_count": 37,
   "metadata": {},
   "outputs": [
    {
     "data": {
      "text/plain": [
       "0    108286\n",
       "1      2042\n",
       "2       183\n",
       "3        13\n",
       "4         3\n",
       "Name: Disability, dtype: int64"
      ]
     },
     "execution_count": 37,
     "metadata": {},
     "output_type": "execute_result"
    }
   ],
   "source": [
    "df_raw.Disability.value_counts()"
   ]
  },
  {
   "cell_type": "code",
   "execution_count": 40,
   "metadata": {},
   "outputs": [
    {
     "data": {
      "text/plain": [
       "No     88208\n",
       "Yes    22319\n",
       "Name: No_show, dtype: int64"
      ]
     },
     "execution_count": 40,
     "metadata": {},
     "output_type": "execute_result"
    }
   ],
   "source": [
    "df_raw.No_show.value_counts()"
   ]
  },
  {
   "cell_type": "code",
   "execution_count": 45,
   "metadata": {},
   "outputs": [
    {
     "data": {
      "image/png": "[encoded data removed]",
      "text/plain": [
       "<matplotlib.figure.Figure at 0x7f19e1bc7ef0>"
      ]
     },
     "metadata": {},
     "output_type": "display_data"
    }
   ],
   "source": [
    "# Age distribution\n",
    "# FIXME: This is currently double counting (or 88x counting) people because patients appear multiple times in the data...\n",
    "df_raw.Age.plot(kind='hist')\n",
    "plt.show()"
   ]
  },
  {
   "cell_type": "code",
   "execution_count": 56,
   "metadata": {},
   "outputs": [
    {
     "data": {
      "image/png": "[encoded data removed]",
      "text/plain": [
       "<matplotlib.figure.Figure at 0x7f19df813470>"
      ]
     },
     "metadata": {},
     "output_type": "display_data"
    }
   ],
   "source": [
    "# Scheduled_Date Histogram\n",
    "plt.subplot(1, 2, 1)\n",
    "df_raw.Scheduled_Date.groupby(df_raw['Scheduled_Date'].dt.week).count().plot(kind='bar', title='Scheduled_Date by Week')\n",
    "\n",
    "plt.subplot(1, 2, 2)\n",
    "df_raw.Scheduled_Date.groupby(df_raw['Scheduled_Date'].dt.weekday).count().plot(kind='bar', title='Scheduled_Date by Weekday')\n",
    "plt.tight_layout()\n",
    "\n",
    "plt.show()\n",
    "\n",
    "\n",
    "# ugly...."
   ]
  },
  {
   "cell_type": "code",
   "execution_count": 57,
   "metadata": {},
   "outputs": [
    {
     "data": {
      "image/png": "[encoded data removed]",
      "text/plain": [
       "<matplotlib.figure.Figure at 0x7f19df278da0>"
      ]
     },
     "metadata": {},
     "output_type": "display_data"
    }
   ],
   "source": [
    "# Appointment_Date Histogram\n",
    "# Scheduled_Date Histogram\n",
    "plt.subplot(1, 2, 1)\n",
    "df_raw.Appointment_Date.groupby(df_raw['Appointment_Date'].dt.week).count().plot(kind='bar', title='Appointment_Date by Week')\n",
    "\n",
    "plt.subplot(1, 2, 2)\n",
    "df_raw.Appointment_Date.groupby(df_raw['Appointment_Date'].dt.weekday).count().plot(kind='bar', title='Appointment_Date by Weekday')\n",
    "plt.tight_layout()\n",
    "\n",
    "plt.show()\n",
    "\n",
    "\n",
    "# ugly...."
   ]
  },
  {
   "cell_type": "code",
   "execution_count": 41,
   "metadata": {
    "collapsed": true
   },
   "outputs": [],
   "source": [
    "df_clean = df_raw.copy()"
   ]
  },
  {
   "cell_type": "markdown",
   "metadata": {
    "collapsed": true
   },
   "source": [
    "## Clean Dataset - EDA"
   ]
  }
 ],
 "metadata": {
  "kernelspec": {
   "display_name": "Python 3",
   "language": "python",
   "name": "python3"
  },
  "language_info": {
   "codemirror_mode": {
    "name": "ipython",
    "version": 3
   },
   "file_extension": ".py",
   "mimetype": "text/x-python",
   "name": "python",
   "nbconvert_exporter": "python",
   "pygments_lexer": "ipython3",
   "version": "3.6.3"
  }
 },
 "nbformat": 4,
 "nbformat_minor": 2
}

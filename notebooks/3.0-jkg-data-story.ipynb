{
 "cells": [
  {
   "cell_type": "markdown",
   "metadata": {},
   "source": [
    "# Data Story\n",
    "\n",
    "1. Questions\n",
    "    - Comparisons\n",
    "    - Counts\n",
    "    - Trends\n",
    "    - Plots (Bar/Histogram/Scatter/Time-Series)\n",
    "    - Cross-tabs\n",
    "2. Insights\n",
    "    - Correlations\n",
    "    - Hypotheses\n",
    "3. Narrative\n",
    "    - Present in a story form, needs to flow\n",
    "    - What trends/relationships would make it more complete?"
   ]
  },
  {
   "cell_type": "markdown",
   "metadata": {},
   "source": [
    "**Notes:**\n",
    "\n",
    "- Date/Time needs to be categorized before being used in ML models\n",
    "- Only choose a few columns to explore in detail, can always go back and explore further after starting ML\n",
    "- *Histogram of diff in appointment-date relative to scheduled-date*"
   ]
  },
  {
   "cell_type": "markdown",
   "metadata": {},
   "source": [
    "## Create clean DataFrame based on 2.0-jkg-data-wrangling"
   ]
  },
  {
   "cell_type": "code",
   "execution_count": 2,
   "metadata": {},
   "outputs": [],
   "source": [
    "# Package imports\n",
    "import pandas as pd\n",
    "\n",
    "# import raw data into DataFrame\n",
    "df_import = pd.read_csv('../data/raw/KaggleV2-May-2016.csv')\n",
    "\n",
    "# Rename columns\n",
    "df_import.columns = ['Patient_ID',\n",
    "                  'Appointment_ID',\n",
    "                  'Gender',\n",
    "                  'Scheduled_Date',\n",
    "                  'Appointment_Date',\n",
    "                  'Age',\n",
    "                  'Neighborhood',\n",
    "                  'Welfare',\n",
    "                  'Hypertension',\n",
    "                  'Diabetes',\n",
    "                  'Alcoholism',\n",
    "                  'Disability',\n",
    "                  'SMS_sent',\n",
    "                  'No_show']\n",
    "\n",
    "# Convert Scheduled_Date to DateTime\n",
    "df_import['Scheduled_Date'] = pd.to_datetime(df_import['Scheduled_Date'])\n",
    "\n",
    "# Convert Appointment_Date to DateTime\n",
    "df_import['Appointment_Date'] = pd.to_datetime(df_import['Appointment_Date'])\n",
    "\n",
    "# Set index to Appointment_ID (unique)\n",
    "df_import.set_index('Appointment_ID')\n",
    "\n",
    "# Copy df_import to df_clean\n",
    "df_clean = df_import.copy()"
   ]
  },
  {
   "cell_type": "markdown",
   "metadata": {},
   "source": [
    "## Visualization TODOs\n",
    "\n",
    "- Create DataFrame of Patients w/ duplicates removed\n",
    "    - Gender\n",
    "    - Age\n",
    "    - Count of Total Appointments\n",
    "    - Count of No-show Appointments\n",
    "- Histogram of DateDiff (overall and missed appointments)\n",
    "- Crosstab of SMS_sent and noshow"
   ]
  },
  {
   "cell_type": "code",
   "execution_count": 8,
   "metadata": {},
   "outputs": [
    {
     "data": {
      "text/plain": [
       "0        -1 days +05:21:52\n",
       "1        -1 days +07:51:33\n",
       "2        -1 days +07:40:56\n",
       "3        -1 days +06:30:29\n",
       "4        -1 days +07:52:37\n",
       "5          1 days 15:23:09\n",
       "6          1 days 08:54:48\n",
       "7          1 days 08:20:02\n",
       "8        -1 days +15:57:44\n",
       "9          1 days 11:11:35\n",
       "10         1 days 09:01:49\n",
       "11         2 days 15:15:48\n",
       "12         0 days 12:26:09\n",
       "13         0 days 09:07:53\n",
       "14         0 days 13:53:36\n",
       "15         2 days 15:12:33\n",
       "16         0 days 15:08:13\n",
       "17         0 days 14:31:03\n",
       "18         2 days 13:05:42\n",
       "19       -1 days +13:16:46\n",
       "20         1 days 16:08:46\n",
       "21         1 days 13:09:15\n",
       "22         3 days 10:30:44\n",
       "23         0 days 13:32:55\n",
       "24       -1 days +09:40:41\n",
       "25         2 days 08:55:43\n",
       "26       -1 days +09:40:18\n",
       "27         1 days 13:08:15\n",
       "28       -1 days +08:11:58\n",
       "29       -1 days +08:43:31\n",
       "                ...       \n",
       "110497   -1 days +14:13:27\n",
       "110498   -1 days +13:38:46\n",
       "110499   -1 days +14:17:04\n",
       "110500   -1 days +14:24:47\n",
       "110501   -1 days +13:40:48\n",
       "110502   -1 days +13:09:18\n",
       "110503   -1 days +10:59:24\n",
       "110504   -1 days +12:53:39\n",
       "110505   -1 days +13:14:10\n",
       "110506   -1 days +12:50:40\n",
       "110507   -1 days +14:55:42\n",
       "110508   -1 days +14:19:00\n",
       "110509   -1 days +15:09:09\n",
       "110510   -1 days +14:24:12\n",
       "110511   -1 days +15:09:40\n",
       "110512   -1 days +15:39:59\n",
       "110513   -1 days +16:07:05\n",
       "110514   -1 days +15:24:29\n",
       "110515     1 days 08:01:55\n",
       "110516     0 days 16:14:44\n",
       "110517   -1 days +16:21:26\n",
       "110518    40 days 08:44:54\n",
       "110519    40 days 08:36:46\n",
       "110520    34 days 16:08:13\n",
       "110521    34 days 15:36:20\n",
       "110522    34 days 14:44:25\n",
       "110523    34 days 16:32:27\n",
       "110524    40 days 07:56:08\n",
       "110525    40 days 08:50:37\n",
       "110526    40 days 10:29:04\n",
       "Length: 110527, dtype: timedelta64[ns]"
      ]
     },
     "execution_count": 8,
     "metadata": {},
     "output_type": "execute_result"
    }
   ],
   "source": [
    "# Calculate Date Difference (Appointment - Scheduled)\n",
    "\n",
    "(df_clean['Appointment_Date'] - df_clean['Scheduled_Date'])"
   ]
  },
  {
   "cell_type": "code",
   "execution_count": null,
   "metadata": {},
   "outputs": [],
   "source": []
  },
  {
   "cell_type": "code",
   "execution_count": 3,
   "metadata": {},
   "outputs": [],
   "source": [
    "# New Patients DataFrame df_patients\n",
    "df_patients = df_clean.copy()"
   ]
  },
  {
   "cell_type": "code",
   "execution_count": 4,
   "metadata": {},
   "outputs": [
    {
     "data": {
      "text/plain": [
       "<pandas.core.groupby.DataFrameGroupBy object at 0x00000156A6435D30>"
      ]
     },
     "execution_count": 4,
     "metadata": {},
     "output_type": "execute_result"
    }
   ],
   "source": [
    "df_patients.groupby(['Patient_ID', 'Gender', 'Age', 'No_show'])"
   ]
  }
 ],
 "metadata": {
  "kernelspec": {
   "display_name": "Python 3",
   "language": "python",
   "name": "python3"
  },
  "language_info": {
   "codemirror_mode": {
    "name": "ipython",
    "version": 3
   },
   "file_extension": ".py",
   "mimetype": "text/x-python",
   "name": "python",
   "nbconvert_exporter": "python",
   "pygments_lexer": "ipython3",
   "version": "3.6.4"
  }
 },
 "nbformat": 4,
 "nbformat_minor": 2
}

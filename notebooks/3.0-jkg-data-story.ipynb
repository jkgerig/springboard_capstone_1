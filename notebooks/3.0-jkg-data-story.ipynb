{
 "cells": [
  {
   "cell_type": "markdown",
   "metadata": {},
   "source": [
    "# Data Story\n",
    "\n",
    "1. Questions\n",
    "    - Comparisons\n",
    "    - Counts\n",
    "    - Trends\n",
    "    - Plots (Bar/Histogram/Scatter/Time-Series)\n",
    "    - Cross-tabs\n",
    "2. Insights\n",
    "    - Correlations\n",
    "    - Hypotheses\n",
    "3. Narrative\n",
    "    - Present in a story form, needs to flow\n",
    "    - What trends/relationships would make it more complete?"
   ]
  },
  {
   "cell_type": "markdown",
   "metadata": {},
   "source": [
    "**Notes:**\n",
    "\n",
    "- Date/Time needs to be categorized before being used in ML models\n",
    "- Only choose a few columns to explore in detail, can always go back and explore further after starting ML\n",
    "- *Histogram of diff in appointment-date relative to scheduled-date*"
   ]
  }
 ],
 "metadata": {
  "kernelspec": {
   "display_name": "Python 3",
   "language": "python",
   "name": "python3"
  },
  "language_info": {
   "codemirror_mode": {
    "name": "ipython",
    "version": 3
   },
   "file_extension": ".py",
   "mimetype": "text/x-python",
   "name": "python",
   "nbconvert_exporter": "python",
   "pygments_lexer": "ipython3",
   "version": "3.6.4"
  }
 },
 "nbformat": 4,
 "nbformat_minor": 2
}

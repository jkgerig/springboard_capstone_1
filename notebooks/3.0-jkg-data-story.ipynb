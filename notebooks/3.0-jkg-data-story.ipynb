{
 "cells": [
  {
   "cell_type": "markdown",
   "metadata": {},
   "source": [
    "# Data Story\n",
    "\n",
    "1. Questions\n",
    "    - Comparisons\n",
    "    - Counts\n",
    "    - Trends\n",
    "    - Plots (Bar/Histogram/Scatter/Time-Series)\n",
    "    - Cross-tabs\n",
    "2. Insights\n",
    "    - Correlations\n",
    "    - Hypotheses\n",
    "3. Narrative\n",
    "    - Present in a story form, needs to flow\n",
    "    - What trends/relationships would make it more complete?"
   ]
  },
  {
   "cell_type": "markdown",
   "metadata": {},
   "source": [
    "**Notes:**\n",
    "\n",
    "- Date/Time needs to be categorized before being used in ML models\n",
    "- Only choose a few columns to explore in detail, can always go back and explore further after starting ML\n",
    "- *Histogram of diff in appointment-date relative to scheduled-date*"
   ]
  },
  {
   "cell_type": "markdown",
   "metadata": {},
   "source": [
    "## Import clean DataFrame from 2.0-jkg-data-wrangling"
   ]
  },
  {
   "cell_type": "code",
   "execution_count": 1,
   "metadata": {},
   "outputs": [],
   "source": [
    "# Package imports\n",
    "import pandas as pd\n",
    "import matplotlib.pyplot as plt\n",
    "import seaborn as sns"
   ]
  },
  {
   "cell_type": "code",
   "execution_count": 2,
   "metadata": {},
   "outputs": [],
   "source": [
    "# import pickle file\n",
    "df_clean = pd.read_pickle('../data/interim/clean_df.pickle')"
   ]
  },
  {
   "cell_type": "markdown",
   "metadata": {},
   "source": [
    "## Visualization TODOs\n",
    "\n",
    "- [x] Create DataFrame of Patients w/ duplicates removed (this would also help identify outliers, patients w/tons of appointments)\n",
    "- Histogram of DateDiff (overall and missed appointments)\n",
    "- Crosstab of SMS_sent and noshow"
   ]
  },
  {
   "cell_type": "markdown",
   "metadata": {},
   "source": [
    "**Make Patients DataFrame**"
   ]
  },
  {
   "cell_type": "code",
   "execution_count": 3,
   "metadata": {},
   "outputs": [],
   "source": [
    "df_patients = df_clean.copy()\n",
    "\n",
    "# Drop unnecessary columns from patients dataframe\n",
    "# Note: removing 'Age' here because it changes for some patients over time\n",
    "df_patients.drop(columns=['Scheduled_Date', 'Appointment_Date', 'SMS_sent', 'Age'], inplace=True)\n",
    "\n",
    "# Convert no_show column to 1/0 for easier calculation\n",
    "df_patients.No_show.replace(('Yes', 'No'), (1, 0), inplace=True)\n",
    "\n",
    "# Calculate total number of appointments and number of no_show appointments\n",
    "patient_appointments = df_patients.groupby('Patient_ID')['Appointment_ID'].count()\n",
    "patient_noshows = df_patients.groupby('Patient_ID')['No_show'].sum()\n",
    "\n",
    "# Remove appointment columns (no longer needed after sum/count in previous step)\n",
    "df_patients.drop(columns=['Appointment_ID', 'No_show'], inplace=True)\n",
    "\n",
    "# Make DataFrame 'per-patient' by removing duplicates and setting Patient_ID as index\n",
    "df_patients.drop_duplicates(inplace=True)\n",
    "df_patients.set_index('Patient_ID', inplace=True)\n",
    "\n",
    "# Add calculated series to dataframe as columns\n",
    "patient_appointments.name = 'total_appointments'\n",
    "df_patients = df_patients.join(patient_appointments)\n",
    "\n",
    "patient_noshows.name = 'noshow_appointments'\n",
    "df_patients = df_patients.join(patient_noshows)\n",
    "\n",
    "# sort completed dataframe\n",
    "df_patients.sort_index(inplace=True)"
   ]
  },
  {
   "cell_type": "markdown",
   "metadata": {},
   "source": [
    "**Make Appointments DataFrame**"
   ]
  },
  {
   "cell_type": "code",
   "execution_count": 4,
   "metadata": {},
   "outputs": [],
   "source": [
    "df_appointments = df_clean.copy()\n",
    "\n",
    "df_appointments.set_index('Appointment_ID', inplace=True)\n",
    "\n",
    "# Drop extra columns\n",
    "df_appointments.drop(columns=['Age', 'Neighborhood', 'Welfare', 'Hypertension', 'Diabetes', 'Alcoholism', 'Disability'], inplace=True)\n",
    "\n",
    "# Calculate Date Difference (Appointment - Scheduled)\n",
    "# Convert scheduled date to date since appointment date does not have time included\n",
    "# BUT...need to also use `.dt.date` with Appointment_Date due to type mismatch otherwise...\n",
    "df_appointments['date_diff'] = df_appointments['Appointment_Date'].dt.date - df_appointments['Scheduled_Date'].dt.date\n"
   ]
  },
  {
   "cell_type": "code",
   "execution_count": 7,
   "metadata": {},
   "outputs": [
    {
     "data": {
      "text/plain": [
       "No     88208\n",
       "Yes    22319\n",
       "Name: No_show, dtype: int64"
      ]
     },
     "execution_count": 7,
     "metadata": {},
     "output_type": "execute_result"
    }
   ],
   "source": [
    "df_appointments.No_show.value_counts()"
   ]
  },
  {
   "cell_type": "code",
   "execution_count": 6,
   "metadata": {},
   "outputs": [],
   "source": [
    "# Save DataFrames for use in modeling\n",
    "df_patients.to_pickle('../data/interim/patients_df.pickle')\n",
    "df_appointments.to_pickle('../data/interim/appointments_df.pickle')"
   ]
  }
 ],
 "metadata": {
  "kernelspec": {
   "display_name": "Python 3",
   "language": "python",
   "name": "python3"
  },
  "language_info": {
   "codemirror_mode": {
    "name": "ipython",
    "version": 3
   },
   "file_extension": ".py",
   "mimetype": "text/x-python",
   "name": "python",
   "nbconvert_exporter": "python",
   "pygments_lexer": "ipython3",
   "version": "3.6.5"
  }
 },
 "nbformat": 4,
 "nbformat_minor": 2
}

{
 "cells": [
  {
   "cell_type": "markdown",
   "metadata": {},
   "source": [
    "# Data Story\n",
    "\n",
    "1. Questions\n",
    "    - Comparisons\n",
    "    - Counts\n",
    "    - Trends\n",
    "    - Plots (Bar/Histogram/Scatter/Time-Series)\n",
    "    - Cross-tabs\n",
    "2. Insights\n",
    "    - Correlations\n",
    "    - Hypotheses\n",
    "3. Narrative\n",
    "    - Present in a story form, needs to flow\n",
    "    - What trends/relationships would make it more complete?"
   ]
  },
  {
   "cell_type": "markdown",
   "metadata": {},
   "source": [
    "**Notes:**\n",
    "\n",
    "- Date/Time needs to be categorized before being used in ML models\n",
    "- Only choose a few columns to explore in detail, can always go back and explore further after starting ML\n",
    "- *Histogram of diff in appointment-date relative to scheduled-date*"
   ]
  },
  {
   "cell_type": "markdown",
   "metadata": {},
   "source": [
    "## Import clean DataFrame from 2.0-jkg-data-wrangling"
   ]
  },
  {
   "cell_type": "code",
   "execution_count": null,
   "metadata": {},
   "outputs": [],
   "source": [
    "# Package imports\n",
    "import pandas as pd\n",
    "import matplotlib.pyplot as plt\n",
    "import seaborn as sns"
   ]
  },
  {
   "cell_type": "code",
   "execution_count": null,
   "metadata": {},
   "outputs": [],
   "source": [
    "# import pickle files\n",
    "df_clean = pd.read_pickle('../data/interim/clean_df.pickle')\n",
    "df_patients = pd.read_pickle('../data/interim/patients_df.pickle')\n",
    "df_appointments = pd.read_pickle('../data/interim/appointments_df.pickle')"
   ]
  },
  {
   "cell_type": "markdown",
   "metadata": {},
   "source": [
    "## Visualization TODOs\n",
    "\n",
    "- [x] Create DataFrame of Patients w/ duplicates removed (this would also help identify outliers, patients w/tons of appointments)\n",
    "- Histogram of DateDiff (overall and missed appointments)\n",
    "- Crosstab of SMS_sent and noshow"
   ]
  }
 ],
 "metadata": {
  "kernelspec": {
   "display_name": "Python 3",
   "language": "python",
   "name": "python3"
  },
  "language_info": {
   "codemirror_mode": {
    "name": "ipython",
    "version": 3
   },
   "file_extension": ".py",
   "mimetype": "text/x-python",
   "name": "python",
   "nbconvert_exporter": "python",
   "pygments_lexer": "ipython3",
   "version": "3.6.5"
  }
 },
 "nbformat": 4,
 "nbformat_minor": 2
}

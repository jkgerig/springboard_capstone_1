{
 "cells": [
  {
   "cell_type": "markdown",
   "metadata": {},
   "source": [
    "# Data Story\n",
    "\n",
    "1. Questions\n",
    "    - Comparisons\n",
    "    - Counts\n",
    "    - Trends\n",
    "    - Plots (Bar/Histogram/Scatter/Time-Series)\n",
    "    - Cross-tabs\n",
    "2. Insights\n",
    "    - Correlations\n",
    "    - Hypotheses\n",
    "3. Narrative\n",
    "    - Present in a story form, needs to flow\n",
    "    - What trends/relationships would make it more complete?"
   ]
  },
  {
   "cell_type": "markdown",
   "metadata": {},
   "source": [
    "**Notes:**\n",
    "\n",
    "- Date/Time needs to be categorized before being used in ML models\n",
    "- Only choose a few columns to explore in detail, can always go back and explore further after starting ML\n",
    "- *Histogram of diff in appointment-date relative to scheduled-date*"
   ]
  },
  {
   "cell_type": "markdown",
   "metadata": {},
   "source": [
    "## Import clean DataFrame from 2.0-jkg-data-wrangling"
   ]
  },
  {
   "cell_type": "code",
   "execution_count": null,
   "metadata": {},
   "outputs": [],
   "source": [
    "# Package imports\n",
    "import pandas as pd\n",
    "\n",
    "# import pickle file\n",
    "df_clean = pd.read_pickle('../data/interim/clean_df.pickle')\n"
   ]
  },
  {
   "cell_type": "code",
   "execution_count": null,
   "metadata": {},
   "outputs": [],
   "source": [
    "# Appointments DataFrame\n",
    "df_appointments = df_clean.copy()\n",
    "\n",
    "# Patients DataFrame\n",
    "df_patients = df_clean.copy()"
   ]
  },
  {
   "cell_type": "markdown",
   "metadata": {},
   "source": [
    "## Visualization TODOs\n",
    "\n",
    "- [x] Create DataFrame of Patients w/ duplicates removed (this would also help identify outliers, patients w/tons of appointments)\n",
    "- Histogram of DateDiff (overall and missed appointments)\n",
    "- Crosstab of SMS_sent and noshow"
   ]
  },
  {
   "cell_type": "code",
   "execution_count": null,
   "metadata": {},
   "outputs": [],
   "source": [
    "df_patients.drop(columns=['Scheduled_Date', 'Appointment_Date', 'SMS_sent', 'Age'], inplace=True)\n",
    "df_patients.No_show.replace(('Yes', 'No'), (1, 0), inplace=True)"
   ]
  },
  {
   "cell_type": "code",
   "execution_count": null,
   "metadata": {},
   "outputs": [],
   "source": [
    "patient_appointments = df_patients.groupby('Patient_ID')['Appointment_ID'].count()\n",
    "patient_noshows = df_patients.groupby('Patient_ID')['No_show'].sum()"
   ]
  },
  {
   "cell_type": "code",
   "execution_count": null,
   "metadata": {},
   "outputs": [],
   "source": [
    "df_patients.drop(columns=['Appointment_ID', 'No_show'], inplace=True)\n",
    "df_patients.drop_duplicates(inplace=True)\n",
    "df_patients.set_index('Patient_ID', inplace=True)"
   ]
  },
  {
   "cell_type": "code",
   "execution_count": null,
   "metadata": {},
   "outputs": [],
   "source": [
    "patient_appointments.name = 'total_appointments'\n",
    "df_patients = df_patients.join(patient_appointments)\n",
    "\n",
    "patient_noshows.name = 'noshow_appointments'\n",
    "df_patients = df_patients.join(patient_noshows)\n",
    "\n",
    "df_patients.sort_index(inplace=True)"
   ]
  },
  {
   "cell_type": "code",
   "execution_count": null,
   "metadata": {},
   "outputs": [],
   "source": [
    "# Calculate Date Difference (Appointment - Scheduled)\n",
    "\n",
    "# (df_clean['Appointment_Date'] - df_clean['Scheduled_Date'])\n",
    "\n",
    "# need to recast scheduled date as just date since appointment date does not have time included\n",
    "# look for potential outliers of backdated appointments\n",
    "\n",
    "df_appointments['Scheduled_Date_Only'] = df_appointments['Scheduled_Date'].dt.date"
   ]
  },
  {
   "cell_type": "code",
   "execution_count": null,
   "metadata": {},
   "outputs": [],
   "source": [
    "df_appointments.head()"
   ]
  },
  {
   "cell_type": "code",
   "execution_count": null,
   "metadata": {},
   "outputs": [],
   "source": [
    "df_appointments.info()"
   ]
  },
  {
   "cell_type": "code",
   "execution_count": null,
   "metadata": {},
   "outputs": [],
   "source": [
    "df_appointments['Scheduled_Date_Only'] = pd.to_datetime(df_appointments['Scheduled_Date_Only'])"
   ]
  },
  {
   "cell_type": "code",
   "execution_count": null,
   "metadata": {},
   "outputs": [],
   "source": [
    "df_appointments['Date_Diff'] = df_appointments['Appointment_Date'] - df_appointments['Scheduled_Date_Only']"
   ]
  },
  {
   "cell_type": "code",
   "execution_count": null,
   "metadata": {},
   "outputs": [],
   "source": [
    "import matplotlib.pyplot as plt"
   ]
  },
  {
   "cell_type": "code",
   "execution_count": null,
   "metadata": {},
   "outputs": [],
   "source": [
    "#plt.hist(df_appointments['Date_Diff'])\n",
    "\n",
    "df_appointments['Date_Diff'].astype('timedelta64[D]').hist(bins=100)\n",
    "\n",
    "plt.show()"
   ]
  },
  {
   "cell_type": "code",
   "execution_count": null,
   "metadata": {},
   "outputs": [],
   "source": [
    "df_appointments['Date_Diff'].astype('timedelta64[D]')"
   ]
  },
  {
   "cell_type": "code",
   "execution_count": null,
   "metadata": {},
   "outputs": [],
   "source": [
    "#df_appointments['Date_Diff'].value_counts().sort_index()\n",
    "\n",
    "date_diff = df_appointments['Date_Diff'].astype('timedelta64[D]')\n",
    "\n",
    "date_diff_gt_one = date_diff.loc[date_diff > 0]"
   ]
  },
  {
   "cell_type": "code",
   "execution_count": null,
   "metadata": {},
   "outputs": [],
   "source": [
    "date_diff_gt_one.value_counts().sort_index()"
   ]
  },
  {
   "cell_type": "code",
   "execution_count": null,
   "metadata": {},
   "outputs": [],
   "source": [
    "plt.clf()\n",
    "\n",
    "date_diff_gt_one.hist(bins=200)\n",
    "\n",
    "plt.show()"
   ]
  },
  {
   "cell_type": "code",
   "execution_count": null,
   "metadata": {},
   "outputs": [],
   "source": [
    "# create two dataframes, one with no-show=yes and one with no-show=no, count then merge\n",
    "#df_clean\n",
    "\n",
    "#df_patients[['Patient_ID', 'No'"
   ]
  },
  {
   "cell_type": "code",
   "execution_count": null,
   "metadata": {},
   "outputs": [],
   "source": [
    "df_patients_no_show = df_patients.loc[df_patients['No_show'] == 'Yes'].groupby('Patient_ID').count()\n",
    "#df_patients[['Patient_ID', 'No_show']].loc[:, df_patients['No_show'] == True]\n",
    "\n",
    "df_patients_total_appointments = df_patients.groupby('Patient_ID').count()\n",
    "\n",
    "df_patients_no_show['no_show_count'] = df_patients_no_show['No_show']\n",
    "\n",
    "df_patients_total_appointments['total_appointments'] = df_patients_total_appointments['No_show']\n",
    "\n",
    "df_patients_appointment_counts = df_patients_total_appointments.merge(df_patients_no_show, how='left', left_index=True, right_index=True)"
   ]
  },
  {
   "cell_type": "code",
   "execution_count": null,
   "metadata": {},
   "outputs": [],
   "source": [
    "df_patients_appointment_counts = df_patients_appointment_counts[['no_show_count', 'total_appointments']].fillna(0)"
   ]
  },
  {
   "cell_type": "code",
   "execution_count": null,
   "metadata": {},
   "outputs": [],
   "source": [
    "df_patients_appointment_counts.info()"
   ]
  },
  {
   "cell_type": "code",
   "execution_count": null,
   "metadata": {},
   "outputs": [],
   "source": [
    "df_patients_appointment_counts['no_show_count'] = df_patients_appointment_counts['no_show_count'].astype('int64')"
   ]
  },
  {
   "cell_type": "code",
   "execution_count": null,
   "metadata": {},
   "outputs": [],
   "source": [
    "df_patients_appointment_counts['no_show_pct'] = df_patients_appointment_counts['no_show_count'] / df_patients_appointment_counts['total_appointments']"
   ]
  },
  {
   "cell_type": "code",
   "execution_count": null,
   "metadata": {},
   "outputs": [],
   "source": [
    "df_patients_appointment_counts"
   ]
  }
 ],
 "metadata": {
  "kernelspec": {
   "display_name": "Python 3",
   "language": "python",
   "name": "python3"
  },
  "language_info": {
   "codemirror_mode": {
    "name": "ipython",
    "version": 3
   },
   "file_extension": ".py",
   "mimetype": "text/x-python",
   "name": "python",
   "nbconvert_exporter": "python",
   "pygments_lexer": "ipython3",
   "version": "3.6.4"
  }
 },
 "nbformat": 4,
 "nbformat_minor": 2
}

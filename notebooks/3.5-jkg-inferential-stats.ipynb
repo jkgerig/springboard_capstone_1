{
 "cells": [
  {
   "cell_type": "markdown",
   "metadata": {},
   "source": [
    "# Inferential Statistics"
   ]
  },
  {
   "cell_type": "code",
   "execution_count": 1,
   "metadata": {},
   "outputs": [],
   "source": [
    "# package imports\n",
    "import pandas as pd\n",
    "import numpy as np\n",
    "import matplotlib.pyplot as plt\n",
    "import seaborn as sns\n",
    "\n",
    "plt.style.use('ggplot')"
   ]
  },
  {
   "cell_type": "markdown",
   "metadata": {},
   "source": [
    "## Import clean DataFrames from 2.0-jkg-data-wrangling"
   ]
  },
  {
   "cell_type": "code",
   "execution_count": 2,
   "metadata": {},
   "outputs": [],
   "source": [
    "# import pickle files\n",
    "df_clean = pd.read_pickle('../data/interim/clean_df.pickle')\n",
    "df_patients = pd.read_pickle('../data/interim/patients_df.pickle')\n",
    "df_appointments = pd.read_pickle('../data/interim/appointments_df.pickle')"
   ]
  },
  {
   "cell_type": "markdown",
   "metadata": {},
   "source": [
    "## Means"
   ]
  },
  {
   "cell_type": "code",
   "execution_count": 3,
   "metadata": {},
   "outputs": [
    {
     "name": "stdout",
     "output_type": "stream",
     "text": [
      "The mean patient age is 33.3 years for males and 38.6 years for females.\n"
     ]
    }
   ],
   "source": [
    "# create numpy arrays for male and female patient ages, using minimum age\n",
    "# for patients with multiple values for age (due to multiple appointments)\n",
    "\n",
    "# males\n",
    "df_male = df_clean[df_clean['Gender'] == 'M']\n",
    "ages_male = df_male.groupby('Patient_ID').Age.agg('min').values\n",
    "\n",
    "# females\n",
    "df_female = df_clean[df_clean['Gender'] == 'F']\n",
    "ages_female = df_female.groupby('Patient_ID').Age.agg('min').values\n",
    "\n",
    "# calculate mean age for males and females \n",
    "mean_age_male = np.mean(ages_male)\n",
    "mean_age_female = np.mean(ages_female)\n",
    "\n",
    "# print out mean ages, rounded off to one decimal point\n",
    "print('The mean patient age is', round(mean_age_male, 1), 'years for males and', round(mean_age_female, 1), 'years for females.')"
   ]
  },
  {
   "cell_type": "markdown",
   "metadata": {},
   "source": [
    "## Pearson Correlation Coefficient"
   ]
  },
  {
   "cell_type": "markdown",
   "metadata": {},
   "source": [
    "### Hypertension and Diabetes"
   ]
  },
  {
   "cell_type": "code",
   "execution_count": 4,
   "metadata": {},
   "outputs": [
    {
     "name": "stdout",
     "output_type": "stream",
     "text": [
      "The Pearson Correlation Coefficient between hypertension and diabetes is r = 0.4274\n"
     ]
    },
    {
     "data": {
      "text/html": [
       "<div>\n",
       "<style scoped>\n",
       "    .dataframe tbody tr th:only-of-type {\n",
       "        vertical-align: middle;\n",
       "    }\n",
       "\n",
       "    .dataframe tbody tr th {\n",
       "        vertical-align: top;\n",
       "    }\n",
       "\n",
       "    .dataframe thead th {\n",
       "        text-align: right;\n",
       "    }\n",
       "</style>\n",
       "<table border=\"1\" class=\"dataframe\">\n",
       "  <thead>\n",
       "    <tr style=\"text-align: right;\">\n",
       "      <th>Diabetes</th>\n",
       "      <th>0</th>\n",
       "      <th>1</th>\n",
       "      <th>All</th>\n",
       "    </tr>\n",
       "    <tr>\n",
       "      <th>Hypertension</th>\n",
       "      <th></th>\n",
       "      <th></th>\n",
       "      <th></th>\n",
       "    </tr>\n",
       "  </thead>\n",
       "  <tbody>\n",
       "    <tr>\n",
       "      <th>0</th>\n",
       "      <td>0.790125</td>\n",
       "      <td>0.013371</td>\n",
       "      <td>0.803496</td>\n",
       "    </tr>\n",
       "    <tr>\n",
       "      <th>1</th>\n",
       "      <td>0.138991</td>\n",
       "      <td>0.057513</td>\n",
       "      <td>0.196504</td>\n",
       "    </tr>\n",
       "    <tr>\n",
       "      <th>All</th>\n",
       "      <td>0.929116</td>\n",
       "      <td>0.070884</td>\n",
       "      <td>1.000000</td>\n",
       "    </tr>\n",
       "  </tbody>\n",
       "</table>\n",
       "</div>"
      ],
      "text/plain": [
       "Diabetes             0         1       All\n",
       "Hypertension                              \n",
       "0             0.790125  0.013371  0.803496\n",
       "1             0.138991  0.057513  0.196504\n",
       "All           0.929116  0.070884  1.000000"
      ]
     },
     "execution_count": 4,
     "metadata": {},
     "output_type": "execute_result"
    }
   ],
   "source": [
    "# create numpy arrays for the binary variables hypertension and diabetes from the patients dataframe\n",
    "patients_hypertension = df_patients.Hypertension.values\n",
    "patients_diabetes = df_patients.Diabetes.values\n",
    "\n",
    "# compute the pearson correlation coefficient (r) between hypertension and diabetes\n",
    "r_hypertension_diabetes = np.corrcoef(patients_hypertension, patients_diabetes)[0,1]\n",
    "\n",
    "# print out r, rounded to four decimal places\n",
    "print('The Pearson Correlation Coefficient between hypertension and diabetes is r =', round(r_hypertension_diabetes, 4))\n",
    "\n",
    "# show a cross-tab of this relationship\n",
    "pd.crosstab(df_patients['Hypertension'], df_patients['Diabetes'], margins=True, normalize=True)"
   ]
  },
  {
   "cell_type": "markdown",
   "metadata": {},
   "source": [
    "### SMS Sent and No-show"
   ]
  },
  {
   "cell_type": "code",
   "execution_count": 5,
   "metadata": {},
   "outputs": [
    {
     "name": "stdout",
     "output_type": "stream",
     "text": [
      "The Pearson Correlation Coefficient between SMS_sent and No_show is r = 0.1264\n"
     ]
    },
    {
     "data": {
      "text/html": [
       "<div>\n",
       "<style scoped>\n",
       "    .dataframe tbody tr th:only-of-type {\n",
       "        vertical-align: middle;\n",
       "    }\n",
       "\n",
       "    .dataframe tbody tr th {\n",
       "        vertical-align: top;\n",
       "    }\n",
       "\n",
       "    .dataframe thead th {\n",
       "        text-align: right;\n",
       "    }\n",
       "</style>\n",
       "<table border=\"1\" class=\"dataframe\">\n",
       "  <thead>\n",
       "    <tr style=\"text-align: right;\">\n",
       "      <th>No_show</th>\n",
       "      <th>No</th>\n",
       "      <th>Yes</th>\n",
       "    </tr>\n",
       "    <tr>\n",
       "      <th>SMS_sent</th>\n",
       "      <th></th>\n",
       "      <th></th>\n",
       "    </tr>\n",
       "  </thead>\n",
       "  <tbody>\n",
       "    <tr>\n",
       "      <th>0</th>\n",
       "      <td>0.832967</td>\n",
       "      <td>0.167033</td>\n",
       "    </tr>\n",
       "    <tr>\n",
       "      <th>1</th>\n",
       "      <td>0.724255</td>\n",
       "      <td>0.275745</td>\n",
       "    </tr>\n",
       "    <tr>\n",
       "      <th>All</th>\n",
       "      <td>0.798067</td>\n",
       "      <td>0.201933</td>\n",
       "    </tr>\n",
       "  </tbody>\n",
       "</table>\n",
       "</div>"
      ],
      "text/plain": [
       "No_show         No       Yes\n",
       "SMS_sent                    \n",
       "0         0.832967  0.167033\n",
       "1         0.724255  0.275745\n",
       "All       0.798067  0.201933"
      ]
     },
     "execution_count": 5,
     "metadata": {},
     "output_type": "execute_result"
    }
   ],
   "source": [
    "# create numpy arrays for the binary variables SMS_sent and No_show from the appointments dataframe\n",
    "appt_sms = df_appointments.SMS_sent.values\n",
    "appt_noshow = df_appointments.No_show.map({'Yes': 1, 'No': 0}).values\n",
    "\n",
    "# compute the pearson correlation coefficient (r) between SMS_sent and No_show\n",
    "r_sms_noshow = np.corrcoef(appt_sms, appt_noshow)[0,1]\n",
    "\n",
    "# print out r, rounded to four decimal places\n",
    "print('The Pearson Correlation Coefficient between SMS_sent and No_show is r =', round(r_sms_noshow, 4))\n",
    "\n",
    "# show a cross-tab of this relationship\n",
    "pd.crosstab(df_appointments['SMS_sent'], df_appointments['No_show'], margins=True, normalize='index')"
   ]
  },
  {
   "cell_type": "code",
   "execution_count": 6,
   "metadata": {},
   "outputs": [
    {
     "name": "stdout",
     "output_type": "stream",
     "text": [
      "The Pearson Correlation Coefficient between Gender and No_show is r = -0.0041\n"
     ]
    },
    {
     "data": {
      "text/html": [
       "<div>\n",
       "<style scoped>\n",
       "    .dataframe tbody tr th:only-of-type {\n",
       "        vertical-align: middle;\n",
       "    }\n",
       "\n",
       "    .dataframe tbody tr th {\n",
       "        vertical-align: top;\n",
       "    }\n",
       "\n",
       "    .dataframe thead th {\n",
       "        text-align: right;\n",
       "    }\n",
       "</style>\n",
       "<table border=\"1\" class=\"dataframe\">\n",
       "  <thead>\n",
       "    <tr style=\"text-align: right;\">\n",
       "      <th>No_show</th>\n",
       "      <th>No</th>\n",
       "      <th>Yes</th>\n",
       "    </tr>\n",
       "    <tr>\n",
       "      <th>Gender</th>\n",
       "      <th></th>\n",
       "      <th></th>\n",
       "    </tr>\n",
       "  </thead>\n",
       "  <tbody>\n",
       "    <tr>\n",
       "      <th>F</th>\n",
       "      <td>0.796854</td>\n",
       "      <td>0.203146</td>\n",
       "    </tr>\n",
       "    <tr>\n",
       "      <th>M</th>\n",
       "      <td>0.800321</td>\n",
       "      <td>0.199679</td>\n",
       "    </tr>\n",
       "    <tr>\n",
       "      <th>All</th>\n",
       "      <td>0.798067</td>\n",
       "      <td>0.201933</td>\n",
       "    </tr>\n",
       "  </tbody>\n",
       "</table>\n",
       "</div>"
      ],
      "text/plain": [
       "No_show        No       Yes\n",
       "Gender                     \n",
       "F        0.796854  0.203146\n",
       "M        0.800321  0.199679\n",
       "All      0.798067  0.201933"
      ]
     },
     "execution_count": 6,
     "metadata": {},
     "output_type": "execute_result"
    }
   ],
   "source": [
    "# create numpy arrays for the binary variables SMS_sent and No_show from the appointments dataframe\n",
    "appt_gender = df_appointments.Gender.map({'M': 1, 'F': 0}).values\n",
    "appt_noshow = df_appointments.No_show.map({'Yes': 1, 'No': 0}).values\n",
    "\n",
    "# compute the pearson correlation coefficient (r) between SMS_sent and No_show\n",
    "r_gender_noshow = np.corrcoef(appt_gender, appt_noshow)[0,1]\n",
    "\n",
    "# print out r, rounded to four decimal places\n",
    "print('The Pearson Correlation Coefficient between Gender and No_show is r =', round(r_gender_noshow, 4))\n",
    "\n",
    "# show a cross-tab of this relationship\n",
    "pd.crosstab(df_appointments['Gender'], df_appointments['No_show'], margins=True, normalize='index')"
   ]
  }
 ],
 "metadata": {
  "kernelspec": {
   "display_name": "Python 3",
   "language": "python",
   "name": "python3"
  },
  "language_info": {
   "codemirror_mode": {
    "name": "ipython",
    "version": 3
   },
   "file_extension": ".py",
   "mimetype": "text/x-python",
   "name": "python",
   "nbconvert_exporter": "python",
   "pygments_lexer": "ipython3",
   "version": "3.6.5"
  }
 },
 "nbformat": 4,
 "nbformat_minor": 2
}

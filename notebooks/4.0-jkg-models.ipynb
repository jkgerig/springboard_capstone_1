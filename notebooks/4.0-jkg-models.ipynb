{
 "cells": [
  {
   "cell_type": "code",
   "execution_count": 1,
   "metadata": {},
   "outputs": [],
   "source": [
    "# package imports\n",
    "import pandas as pd\n",
    "import numpy as np\n",
    "from sklearn.model_selection import train_test_split\n",
    "from sklearn.linear_model import LogisticRegression\n",
    "from sklearn.metrics import confusion_matrix, classification_report"
   ]
  },
  {
   "cell_type": "code",
   "execution_count": 2,
   "metadata": {},
   "outputs": [],
   "source": [
    "# import pickle file\n",
    "#df_patients = pd.read_pickle('../data/interim/patients_df.pickle')\n",
    "df_appointments = pd.read_pickle('../data/interim/appointments_df.pickle')\n",
    "df_clean = pd.read_pickle('../data/interim/clean_df.pickle')"
   ]
  },
  {
   "cell_type": "code",
   "execution_count": 3,
   "metadata": {},
   "outputs": [],
   "source": [
    "df_clean.set_index('Appointment_ID', inplace=True)"
   ]
  },
  {
   "cell_type": "code",
   "execution_count": 4,
   "metadata": {},
   "outputs": [],
   "source": [
    "df_model = df_appointments.join(df_clean, rsuffix='_clean')"
   ]
  },
  {
   "cell_type": "code",
   "execution_count": 5,
   "metadata": {},
   "outputs": [],
   "source": [
    "drop_columns = ['Patient_ID_clean',\n",
    "                'Gender_clean',\n",
    "                'Scheduled_Date_clean',\n",
    "                'Appointment_Date_clean',\n",
    "                'SMS_sent_clean',\n",
    "                'No_show_clean',\n",
    "                'Neighborhood']\n",
    "df_model.drop(columns=drop_columns, inplace=True)"
   ]
  },
  {
   "cell_type": "code",
   "execution_count": 6,
   "metadata": {},
   "outputs": [],
   "source": [
    "df_model['days_diff'] = df_model.date_diff.dt.days"
   ]
  },
  {
   "cell_type": "code",
   "execution_count": 7,
   "metadata": {},
   "outputs": [],
   "source": [
    "df_model = df_model.join(pd.get_dummies(df_model.Appointment_Date.dt.dayofweek))"
   ]
  },
  {
   "cell_type": "code",
   "execution_count": 8,
   "metadata": {},
   "outputs": [],
   "source": [
    "df_model.columns = ['Patient_ID',\n",
    "                    'Gender',\n",
    "                    'Scheduled_Date',\n",
    "                    'Appointment_Date',\n",
    "                    'SMS_sent',\n",
    "                    'No_show',\n",
    "                    'date_diff',\n",
    "                    'Age',\n",
    "                    'Welfare',\n",
    "                    'Hypertension',\n",
    "                    'Diabetes',\n",
    "                    'Alcoholism',\n",
    "                    'Disability',\n",
    "                    'days_diff',\n",
    "                    'Mon',\n",
    "                    'Tue',\n",
    "                    'Wed',\n",
    "                    'Thu',\n",
    "                    'Fri',\n",
    "                    'Sat']"
   ]
  },
  {
   "cell_type": "code",
   "execution_count": 9,
   "metadata": {},
   "outputs": [
    {
     "data": {
      "text/plain": [
       "Index(['Patient_ID', 'Gender', 'Scheduled_Date', 'Appointment_Date',\n",
       "       'SMS_sent', 'No_show', 'date_diff', 'Age', 'Welfare', 'Hypertension',\n",
       "       'Diabetes', 'Alcoholism', 'Disability', 'days_diff', 'Mon', 'Tue',\n",
       "       'Wed', 'Thu', 'Fri', 'Sat'],\n",
       "      dtype='object')"
      ]
     },
     "execution_count": 9,
     "metadata": {},
     "output_type": "execute_result"
    }
   ],
   "source": [
    "df_model.columns"
   ]
  },
  {
   "cell_type": "code",
   "execution_count": 10,
   "metadata": {},
   "outputs": [],
   "source": [
    "unneeded_columns = ['Patient_ID',\n",
    "                    'Scheduled_Date',\n",
    "                    'Appointment_Date',\n",
    "                    'No_show',\n",
    "                    'date_diff',\n",
    "                    'Gender']"
   ]
  },
  {
   "cell_type": "code",
   "execution_count": 11,
   "metadata": {},
   "outputs": [],
   "source": [
    "# Need to produce arrays for the features and the response variable\n",
    "y = df_model['No_show'].values\n",
    "x = df_model.drop(columns=unneeded_columns).values\n"
   ]
  },
  {
   "cell_type": "markdown",
   "metadata": {},
   "source": [
    "# Logistic Regression"
   ]
  },
  {
   "cell_type": "code",
   "execution_count": null,
   "metadata": {},
   "outputs": [],
   "source": [
    "# Create training and test sets\n",
    "x_train, x_test, y_train, y_test = train_test_split(x, y, test_size = 0.4, random_state=42)\n",
    "\n",
    "# Create the classifier: logreg\n",
    "logreg = LogisticRegression()\n",
    "\n",
    "# Fit the classifier to the training data\n",
    "logreg.fit(x_train, y_train)\n",
    "\n",
    "# Predict the labels of the test set: y_pred\n",
    "y_pred = logreg.predict(x_test)\n",
    "\n",
    "# Compute and print the confusion matrix and classification report\n",
    "print(confusion_matrix(y_test, y_pred))\n",
    "print(classification_report(y_test, y_pred))"
   ]
  },
  {
   "cell_type": "code",
   "execution_count": null,
   "metadata": {},
   "outputs": [],
   "source": [
    "for i in [0,1,2,3,4,5,6,7,8,9,10,11,12,13,14]:\n",
    "    print(df_model.drop(columns=unneeded_columns).columns.values[i])\n",
    "    print(logreg.coef_[i])\n",
    " "
   ]
  },
  {
   "cell_type": "code",
   "execution_count": null,
   "metadata": {},
   "outputs": [],
   "source": [
    "tn, fp, fn, tp = confusion_matrix([0, 1, 0, 1], [1, 1, 1, 0]).ravel()"
   ]
  },
  {
   "cell_type": "markdown",
   "metadata": {},
   "source": [
    "# Random Forest"
   ]
  },
  {
   "cell_type": "code",
   "execution_count": 13,
   "metadata": {},
   "outputs": [],
   "source": [
    "from sklearn.ensemble import RandomForestClassifier\n",
    "from sklearn.metrics import accuracy_score"
   ]
  },
  {
   "cell_type": "code",
   "execution_count": 14,
   "metadata": {},
   "outputs": [
    {
     "name": "stdout",
     "output_type": "stream",
     "text": [
      "True\n",
      "0.7601728076722988\n"
     ]
    }
   ],
   "source": [
    "# Create training and test sets\n",
    "x_train, x_test, y_train, y_test = train_test_split(x, y, test_size = 0.4, random_state=42)\n",
    "\n",
    "\n",
    "rf = RandomForestClassifier(n_estimators=100, oob_score=True, random_state=123456)\n",
    "rf.fit(x_train, y_train)\n",
    "\n",
    "predicted = rf.predict(x_test)\n",
    "accuracy = accuracy_score(y_test, predicted)\n",
    "\n",
    "print(rf.oob_score)\n",
    "print(accuracy)\n",
    "\n"
   ]
  }
 ],
 "metadata": {
  "kernelspec": {
   "display_name": "Python 3",
   "language": "python",
   "name": "python3"
  },
  "language_info": {
   "codemirror_mode": {
    "name": "ipython",
    "version": 3
   },
   "file_extension": ".py",
   "mimetype": "text/x-python",
   "name": "python",
   "nbconvert_exporter": "python",
   "pygments_lexer": "ipython3",
   "version": "3.6.5"
  }
 },
 "nbformat": 4,
 "nbformat_minor": 2
}

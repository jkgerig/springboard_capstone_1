{
 "cells": [
  {
   "cell_type": "code",
   "execution_count": null,
   "metadata": {},
   "outputs": [],
   "source": [
    "# package imports\n",
    "import pandas as pd\n",
    "import numpy as np\n",
    "from sklearn.model_selection import train_test_split\n",
    "from sklearn.linear_model import LogisticRegression\n",
    "from sklearn.metrics import confusion_matrix, classification_report"
   ]
  },
  {
   "cell_type": "code",
   "execution_count": null,
   "metadata": {},
   "outputs": [],
   "source": [
    "# import pickle file\n",
    "#df_patients = pd.read_pickle('../data/interim/patients_df.pickle')\n",
    "df_appointments = pd.read_pickle('../data/interim/appointments_df.pickle')\n",
    "df_clean = pd.read_pickle('../data/interim/clean_df.pickle')"
   ]
  },
  {
   "cell_type": "code",
   "execution_count": null,
   "metadata": {},
   "outputs": [],
   "source": [
    "df_clean.set_index('Appointment_ID', inplace=True)"
   ]
  },
  {
   "cell_type": "code",
   "execution_count": null,
   "metadata": {},
   "outputs": [],
   "source": [
    "df_model = df_appointments.join(df_clean, rsuffix='_clean')"
   ]
  },
  {
   "cell_type": "code",
   "execution_count": null,
   "metadata": {},
   "outputs": [],
   "source": [
    "drop_columns = ['Patient_ID_clean',\n",
    "                'Gender_clean',\n",
    "                'Scheduled_Date_clean',\n",
    "                'Appointment_Date_clean',\n",
    "                'SMS_sent_clean',\n",
    "                'No_show_clean',\n",
    "                'Neighborhood']\n",
    "df_model.drop(columns=drop_columns, inplace=True)"
   ]
  },
  {
   "cell_type": "code",
   "execution_count": null,
   "metadata": {},
   "outputs": [],
   "source": [
    "df_model['days_diff'] = df_model.date_diff.dt.days"
   ]
  },
  {
   "cell_type": "code",
   "execution_count": null,
   "metadata": {},
   "outputs": [],
   "source": [
    "df_model = df_model.join(pd.get_dummies(df_model.Appointment_Date.dt.dayofweek))"
   ]
  },
  {
   "cell_type": "code",
   "execution_count": null,
   "metadata": {},
   "outputs": [],
   "source": [
    "df_model.columns = ['Patient_ID',\n",
    "                    'Gender',\n",
    "                    'Scheduled_Date',\n",
    "                    'Appointment_Date',\n",
    "                    'SMS_sent',\n",
    "                    'No_show',\n",
    "                    'date_diff',\n",
    "                    'Age',\n",
    "                    'Welfare',\n",
    "                    'Hypertension',\n",
    "                    'Diabetes',\n",
    "                    'Alcoholism',\n",
    "                    'Disability',\n",
    "                    'days_diff',\n",
    "                    'Mon',\n",
    "                    'Tue',\n",
    "                    'Wed',\n",
    "                    'Thu',\n",
    "                    'Fri',\n",
    "                    'Sat']"
   ]
  },
  {
   "cell_type": "code",
   "execution_count": null,
   "metadata": {},
   "outputs": [],
   "source": [
    "df_model.columns"
   ]
  },
  {
   "cell_type": "code",
   "execution_count": null,
   "metadata": {},
   "outputs": [],
   "source": [
    "unneeded_columns = ['Patient_ID',\n",
    "                    'Scheduled_Date',\n",
    "                    'Appointment_Date',\n",
    "                    'No_show',\n",
    "                    'date_diff',\n",
    "                    'Gender']"
   ]
  },
  {
   "cell_type": "code",
   "execution_count": null,
   "metadata": {},
   "outputs": [],
   "source": [
    "# Need to produce arrays for the features and the response variable\n",
    "y = df_model['No_show'].values\n",
    "x = df_model.drop(columns=unneeded_columns).values\n"
   ]
  },
  {
   "cell_type": "code",
   "execution_count": null,
   "metadata": {},
   "outputs": [],
   "source": [
    "# Create training and test sets\n",
    "x_train, x_test, y_train, y_test = train_test_split(x, y, test_size = 0.4, random_state=42)\n",
    "\n",
    "# Create the classifier: logreg\n",
    "logreg = LogisticRegression()\n",
    "\n",
    "# Fit the classifier to the training data\n",
    "logreg.fit(x_train, y_train)\n",
    "\n",
    "# Predict the labels of the test set: y_pred\n",
    "y_pred = logreg.predict(x_test)\n",
    "\n",
    "# Compute and print the confusion matrix and classification report\n",
    "print(confusion_matrix(y_test, y_pred))\n",
    "print(classification_report(y_test, y_pred))"
   ]
  }
 ],
 "metadata": {
  "kernelspec": {
   "display_name": "Python 3",
   "language": "python",
   "name": "python3"
  },
  "language_info": {
   "codemirror_mode": {
    "name": "ipython",
    "version": 3
   },
   "file_extension": ".py",
   "mimetype": "text/x-python",
   "name": "python",
   "nbconvert_exporter": "python",
   "pygments_lexer": "ipython3",
   "version": "3.6.5"
  }
 },
 "nbformat": 4,
 "nbformat_minor": 2
}
